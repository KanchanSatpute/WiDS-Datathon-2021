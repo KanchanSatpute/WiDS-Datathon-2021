{
 "cells": [
  {
   "cell_type": "code",
   "execution_count": 1,
   "metadata": {},
   "outputs": [],
   "source": [
    "import numpy as np\n",
    "import pandas as pd\n",
    "import matplotlib.pyplot as plt\n",
    "%matplotlib inline\n",
    "import seaborn as sns\n",
    "from sklearn.model_selection import train_test_split,cross_val_score\n",
    "from sklearn.decomposition import PCA\n",
    "from sklearn.metrics import accuracy_score\n",
    "from sklearn.metrics import accuracy_score,classification_report,confusion_matrix\n",
    "from sklearn.metrics import accuracy_score,recall_score,precision_score,f1_score\n",
    "from sklearn.metrics import roc_curve,roc_auc_score\n",
    "from sklearn.metrics import accuracy_score\n",
    "from sklearn.ensemble import GradientBoostingClassifier"
   ]
  },
  {
   "cell_type": "code",
   "execution_count": 2,
   "metadata": {},
   "outputs": [],
   "source": [
    "import os\n",
    "for dirname, _, filenames in os.walk('/kaggle/input'):\n",
    "    for filename in filenames:\n",
    "        print(os.path.join(dirname, filename))"
   ]
  },
  {
   "cell_type": "code",
   "execution_count": 3,
   "metadata": {},
   "outputs": [],
   "source": [
    "X_train=pd.read_csv(\"../input/widsdatathon2021/TrainingWiDS2021.csv\")\n",
    "X_test=pd.read_csv(\"../input/widsdatathon2021/UnlabeledWiDS2021.csv\")"
   ]
  },
  {
   "cell_type": "code",
   "execution_count": 4,
   "metadata": {},
   "outputs": [
    {
     "data": {
      "text/html": [
       "<div>\n",
       "<style scoped>\n",
       "    .dataframe tbody tr th:only-of-type {\n",
       "        vertical-align: middle;\n",
       "    }\n",
       "\n",
       "    .dataframe tbody tr th {\n",
       "        vertical-align: top;\n",
       "    }\n",
       "\n",
       "    .dataframe thead th {\n",
       "        text-align: right;\n",
       "    }\n",
       "</style>\n",
       "<table border=\"1\" class=\"dataframe\">\n",
       "  <thead>\n",
       "    <tr style=\"text-align: right;\">\n",
       "      <th></th>\n",
       "      <th>Unnamed: 0</th>\n",
       "      <th>encounter_id</th>\n",
       "      <th>hospital_id</th>\n",
       "      <th>age</th>\n",
       "      <th>bmi</th>\n",
       "      <th>elective_surgery</th>\n",
       "      <th>ethnicity</th>\n",
       "      <th>gender</th>\n",
       "      <th>height</th>\n",
       "      <th>hospital_admit_source</th>\n",
       "      <th>...</th>\n",
       "      <th>h1_pao2fio2ratio_max</th>\n",
       "      <th>h1_pao2fio2ratio_min</th>\n",
       "      <th>aids</th>\n",
       "      <th>cirrhosis</th>\n",
       "      <th>hepatic_failure</th>\n",
       "      <th>immunosuppression</th>\n",
       "      <th>leukemia</th>\n",
       "      <th>lymphoma</th>\n",
       "      <th>solid_tumor_with_metastasis</th>\n",
       "      <th>diabetes_mellitus</th>\n",
       "    </tr>\n",
       "  </thead>\n",
       "  <tbody>\n",
       "    <tr>\n",
       "      <th>0</th>\n",
       "      <td>1</td>\n",
       "      <td>214826</td>\n",
       "      <td>118</td>\n",
       "      <td>68.0</td>\n",
       "      <td>22.732803</td>\n",
       "      <td>0</td>\n",
       "      <td>Caucasian</td>\n",
       "      <td>M</td>\n",
       "      <td>180.3</td>\n",
       "      <td>Floor</td>\n",
       "      <td>...</td>\n",
       "      <td>NaN</td>\n",
       "      <td>NaN</td>\n",
       "      <td>0</td>\n",
       "      <td>0</td>\n",
       "      <td>0</td>\n",
       "      <td>0</td>\n",
       "      <td>0</td>\n",
       "      <td>0</td>\n",
       "      <td>0</td>\n",
       "      <td>1</td>\n",
       "    </tr>\n",
       "    <tr>\n",
       "      <th>1</th>\n",
       "      <td>2</td>\n",
       "      <td>246060</td>\n",
       "      <td>81</td>\n",
       "      <td>77.0</td>\n",
       "      <td>27.421875</td>\n",
       "      <td>0</td>\n",
       "      <td>Caucasian</td>\n",
       "      <td>F</td>\n",
       "      <td>160.0</td>\n",
       "      <td>Floor</td>\n",
       "      <td>...</td>\n",
       "      <td>51.0</td>\n",
       "      <td>51.0</td>\n",
       "      <td>0</td>\n",
       "      <td>0</td>\n",
       "      <td>0</td>\n",
       "      <td>0</td>\n",
       "      <td>0</td>\n",
       "      <td>0</td>\n",
       "      <td>0</td>\n",
       "      <td>1</td>\n",
       "    </tr>\n",
       "    <tr>\n",
       "      <th>2</th>\n",
       "      <td>3</td>\n",
       "      <td>276985</td>\n",
       "      <td>118</td>\n",
       "      <td>25.0</td>\n",
       "      <td>31.952749</td>\n",
       "      <td>0</td>\n",
       "      <td>Caucasian</td>\n",
       "      <td>F</td>\n",
       "      <td>172.7</td>\n",
       "      <td>Emergency Department</td>\n",
       "      <td>...</td>\n",
       "      <td>NaN</td>\n",
       "      <td>NaN</td>\n",
       "      <td>0</td>\n",
       "      <td>0</td>\n",
       "      <td>0</td>\n",
       "      <td>0</td>\n",
       "      <td>0</td>\n",
       "      <td>0</td>\n",
       "      <td>0</td>\n",
       "      <td>0</td>\n",
       "    </tr>\n",
       "    <tr>\n",
       "      <th>3</th>\n",
       "      <td>4</td>\n",
       "      <td>262220</td>\n",
       "      <td>118</td>\n",
       "      <td>81.0</td>\n",
       "      <td>22.635548</td>\n",
       "      <td>1</td>\n",
       "      <td>Caucasian</td>\n",
       "      <td>F</td>\n",
       "      <td>165.1</td>\n",
       "      <td>Operating Room</td>\n",
       "      <td>...</td>\n",
       "      <td>337.0</td>\n",
       "      <td>337.0</td>\n",
       "      <td>0</td>\n",
       "      <td>0</td>\n",
       "      <td>0</td>\n",
       "      <td>0</td>\n",
       "      <td>0</td>\n",
       "      <td>0</td>\n",
       "      <td>0</td>\n",
       "      <td>0</td>\n",
       "    </tr>\n",
       "    <tr>\n",
       "      <th>4</th>\n",
       "      <td>5</td>\n",
       "      <td>201746</td>\n",
       "      <td>33</td>\n",
       "      <td>19.0</td>\n",
       "      <td>NaN</td>\n",
       "      <td>0</td>\n",
       "      <td>Caucasian</td>\n",
       "      <td>M</td>\n",
       "      <td>188.0</td>\n",
       "      <td>NaN</td>\n",
       "      <td>...</td>\n",
       "      <td>NaN</td>\n",
       "      <td>NaN</td>\n",
       "      <td>0</td>\n",
       "      <td>0</td>\n",
       "      <td>0</td>\n",
       "      <td>0</td>\n",
       "      <td>0</td>\n",
       "      <td>0</td>\n",
       "      <td>0</td>\n",
       "      <td>0</td>\n",
       "    </tr>\n",
       "  </tbody>\n",
       "</table>\n",
       "<p>5 rows × 181 columns</p>\n",
       "</div>"
      ],
      "text/plain": [
       "   Unnamed: 0  encounter_id  hospital_id   age        bmi  elective_surgery  \\\n",
       "0           1        214826          118  68.0  22.732803                 0   \n",
       "1           2        246060           81  77.0  27.421875                 0   \n",
       "2           3        276985          118  25.0  31.952749                 0   \n",
       "3           4        262220          118  81.0  22.635548                 1   \n",
       "4           5        201746           33  19.0        NaN                 0   \n",
       "\n",
       "   ethnicity gender  height hospital_admit_source  ... h1_pao2fio2ratio_max  \\\n",
       "0  Caucasian      M   180.3                 Floor  ...                  NaN   \n",
       "1  Caucasian      F   160.0                 Floor  ...                 51.0   \n",
       "2  Caucasian      F   172.7  Emergency Department  ...                  NaN   \n",
       "3  Caucasian      F   165.1        Operating Room  ...                337.0   \n",
       "4  Caucasian      M   188.0                   NaN  ...                  NaN   \n",
       "\n",
       "   h1_pao2fio2ratio_min aids cirrhosis  hepatic_failure  immunosuppression  \\\n",
       "0                   NaN    0         0                0                  0   \n",
       "1                  51.0    0         0                0                  0   \n",
       "2                   NaN    0         0                0                  0   \n",
       "3                 337.0    0         0                0                  0   \n",
       "4                   NaN    0         0                0                  0   \n",
       "\n",
       "   leukemia  lymphoma  solid_tumor_with_metastasis  diabetes_mellitus  \n",
       "0         0         0                            0                  1  \n",
       "1         0         0                            0                  1  \n",
       "2         0         0                            0                  0  \n",
       "3         0         0                            0                  0  \n",
       "4         0         0                            0                  0  \n",
       "\n",
       "[5 rows x 181 columns]"
      ]
     },
     "execution_count": 4,
     "metadata": {},
     "output_type": "execute_result"
    }
   ],
   "source": [
    "X_train.head()"
   ]
  },
  {
   "cell_type": "code",
   "execution_count": 5,
   "metadata": {},
   "outputs": [],
   "source": [
    "Y_train=X_train['diabetes_mellitus']"
   ]
  },
  {
   "cell_type": "code",
   "execution_count": 6,
   "metadata": {},
   "outputs": [],
   "source": [
    "x_train=X_train.drop(['Unnamed: 0','encounter_id','hospital_id','diabetes_mellitus'],axis=1)\n",
    "x_test=X_test.drop(['Unnamed: 0','encounter_id','hospital_id'],axis=1)"
   ]
  },
  {
   "cell_type": "code",
   "execution_count": 7,
   "metadata": {
    "scrolled": true
   },
   "outputs": [
    {
     "name": "stdout",
     "output_type": "stream",
     "text": [
      "(130157, 177) (10234, 177)\n"
     ]
    }
   ],
   "source": [
    "print(x_train.shape,x_test.shape)"
   ]
  },
  {
   "cell_type": "markdown",
   "metadata": {},
   "source": [
    "### EDA"
   ]
  },
  {
   "cell_type": "code",
   "execution_count": 8,
   "metadata": {},
   "outputs": [
    {
     "name": "stderr",
     "output_type": "stream",
     "text": [
      "/opt/conda/lib/python3.7/site-packages/seaborn/_decorators.py:43: FutureWarning: Pass the following variable as a keyword arg: x. From version 0.12, the only valid positional argument will be `data`, and passing other arguments without an explicit keyword will result in an error or misinterpretation.\n",
      "  FutureWarning\n"
     ]
    },
    {
     "data": {
      "image/png": "[encoded data removed]",
      "text/plain": [
       "<Figure size 432x288 with 1 Axes>"
      ]
     },
     "metadata": {
      "needs_background": "light"
     },
     "output_type": "display_data"
    },
    {
     "name": "stdout",
     "output_type": "stream",
     "text": [
      "Dataset is Unbalanced\n"
     ]
    },
    {
     "data": {
      "text/plain": [
       "0    102006\n",
       "1     28151\n",
       "Name: diabetes_mellitus, dtype: int64"
      ]
     },
     "execution_count": 8,
     "metadata": {},
     "output_type": "execute_result"
    }
   ],
   "source": [
    "sns.countplot(Y_train)\n",
    "plt.show()\n",
    "print('Dataset is Unbalanced')\n",
    "Y_train.value_counts()"
   ]
  },
  {
   "cell_type": "code",
   "execution_count": 9,
   "metadata": {},
   "outputs": [
    {
     "data": {
      "text/html": [
       "<div>\n",
       "<style scoped>\n",
       "    .dataframe tbody tr th:only-of-type {\n",
       "        vertical-align: middle;\n",
       "    }\n",
       "\n",
       "    .dataframe tbody tr th {\n",
       "        vertical-align: top;\n",
       "    }\n",
       "\n",
       "    .dataframe thead th {\n",
       "        text-align: right;\n",
       "    }\n",
       "</style>\n",
       "<table border=\"1\" class=\"dataframe\">\n",
       "  <thead>\n",
       "    <tr style=\"text-align: right;\">\n",
       "      <th></th>\n",
       "      <th>age</th>\n",
       "      <th>bmi</th>\n",
       "      <th>elective_surgery</th>\n",
       "      <th>height</th>\n",
       "      <th>icu_id</th>\n",
       "      <th>pre_icu_los_days</th>\n",
       "      <th>readmission_status</th>\n",
       "      <th>weight</th>\n",
       "      <th>albumin_apache</th>\n",
       "      <th>apache_2_diagnosis</th>\n",
       "      <th>...</th>\n",
       "      <th>h1_arterial_po2_min</th>\n",
       "      <th>h1_pao2fio2ratio_max</th>\n",
       "      <th>h1_pao2fio2ratio_min</th>\n",
       "      <th>aids</th>\n",
       "      <th>cirrhosis</th>\n",
       "      <th>hepatic_failure</th>\n",
       "      <th>immunosuppression</th>\n",
       "      <th>leukemia</th>\n",
       "      <th>lymphoma</th>\n",
       "      <th>solid_tumor_with_metastasis</th>\n",
       "    </tr>\n",
       "  </thead>\n",
       "  <tbody>\n",
       "    <tr>\n",
       "      <th>count</th>\n",
       "      <td>125169.000000</td>\n",
       "      <td>125667.000000</td>\n",
       "      <td>130157.000000</td>\n",
       "      <td>128080.000000</td>\n",
       "      <td>130157.000000</td>\n",
       "      <td>130157.000000</td>\n",
       "      <td>130157.0</td>\n",
       "      <td>126694.000000</td>\n",
       "      <td>51994.000000</td>\n",
       "      <td>128472.000000</td>\n",
       "      <td>...</td>\n",
       "      <td>22712.000000</td>\n",
       "      <td>16760.000000</td>\n",
       "      <td>16760.000000</td>\n",
       "      <td>130157.00000</td>\n",
       "      <td>130157.000000</td>\n",
       "      <td>130157.000000</td>\n",
       "      <td>130157.000000</td>\n",
       "      <td>130157.000000</td>\n",
       "      <td>130157.000000</td>\n",
       "      <td>130157.000000</td>\n",
       "    </tr>\n",
       "    <tr>\n",
       "      <th>mean</th>\n",
       "      <td>61.995103</td>\n",
       "      <td>29.110260</td>\n",
       "      <td>0.189840</td>\n",
       "      <td>169.607219</td>\n",
       "      <td>662.428344</td>\n",
       "      <td>0.839933</td>\n",
       "      <td>0.0</td>\n",
       "      <td>83.791104</td>\n",
       "      <td>2.886149</td>\n",
       "      <td>185.492683</td>\n",
       "      <td>...</td>\n",
       "      <td>145.949537</td>\n",
       "      <td>247.525419</td>\n",
       "      <td>239.617358</td>\n",
       "      <td>0.00103</td>\n",
       "      <td>0.016081</td>\n",
       "      <td>0.013599</td>\n",
       "      <td>0.025669</td>\n",
       "      <td>0.007307</td>\n",
       "      <td>0.004187</td>\n",
       "      <td>0.020852</td>\n",
       "    </tr>\n",
       "    <tr>\n",
       "      <th>std</th>\n",
       "      <td>16.822880</td>\n",
       "      <td>8.262776</td>\n",
       "      <td>0.392176</td>\n",
       "      <td>10.833085</td>\n",
       "      <td>304.259843</td>\n",
       "      <td>2.485337</td>\n",
       "      <td>0.0</td>\n",
       "      <td>24.963063</td>\n",
       "      <td>0.689812</td>\n",
       "      <td>85.858208</td>\n",
       "      <td>...</td>\n",
       "      <td>100.211935</td>\n",
       "      <td>131.440167</td>\n",
       "      <td>128.562211</td>\n",
       "      <td>0.03207</td>\n",
       "      <td>0.125786</td>\n",
       "      <td>0.115819</td>\n",
       "      <td>0.158146</td>\n",
       "      <td>0.085166</td>\n",
       "      <td>0.064574</td>\n",
       "      <td>0.142888</td>\n",
       "    </tr>\n",
       "    <tr>\n",
       "      <th>min</th>\n",
       "      <td>0.000000</td>\n",
       "      <td>14.844926</td>\n",
       "      <td>0.000000</td>\n",
       "      <td>137.200000</td>\n",
       "      <td>82.000000</td>\n",
       "      <td>-0.250000</td>\n",
       "      <td>0.0</td>\n",
       "      <td>38.600000</td>\n",
       "      <td>1.200000</td>\n",
       "      <td>101.000000</td>\n",
       "      <td>...</td>\n",
       "      <td>31.000000</td>\n",
       "      <td>42.000000</td>\n",
       "      <td>38.000000</td>\n",
       "      <td>0.00000</td>\n",
       "      <td>0.000000</td>\n",
       "      <td>0.000000</td>\n",
       "      <td>0.000000</td>\n",
       "      <td>0.000000</td>\n",
       "      <td>0.000000</td>\n",
       "      <td>0.000000</td>\n",
       "    </tr>\n",
       "    <tr>\n",
       "      <th>25%</th>\n",
       "      <td>52.000000</td>\n",
       "      <td>23.598006</td>\n",
       "      <td>0.000000</td>\n",
       "      <td>162.500000</td>\n",
       "      <td>427.000000</td>\n",
       "      <td>0.045833</td>\n",
       "      <td>0.0</td>\n",
       "      <td>66.500000</td>\n",
       "      <td>2.400000</td>\n",
       "      <td>113.000000</td>\n",
       "      <td>...</td>\n",
       "      <td>77.000000</td>\n",
       "      <td>144.000000</td>\n",
       "      <td>138.000000</td>\n",
       "      <td>0.00000</td>\n",
       "      <td>0.000000</td>\n",
       "      <td>0.000000</td>\n",
       "      <td>0.000000</td>\n",
       "      <td>0.000000</td>\n",
       "      <td>0.000000</td>\n",
       "      <td>0.000000</td>\n",
       "    </tr>\n",
       "    <tr>\n",
       "      <th>50%</th>\n",
       "      <td>64.000000</td>\n",
       "      <td>27.564749</td>\n",
       "      <td>0.000000</td>\n",
       "      <td>170.100000</td>\n",
       "      <td>653.000000</td>\n",
       "      <td>0.155556</td>\n",
       "      <td>0.0</td>\n",
       "      <td>80.000000</td>\n",
       "      <td>2.900000</td>\n",
       "      <td>122.000000</td>\n",
       "      <td>...</td>\n",
       "      <td>108.000000</td>\n",
       "      <td>228.125000</td>\n",
       "      <td>218.750000</td>\n",
       "      <td>0.00000</td>\n",
       "      <td>0.000000</td>\n",
       "      <td>0.000000</td>\n",
       "      <td>0.000000</td>\n",
       "      <td>0.000000</td>\n",
       "      <td>0.000000</td>\n",
       "      <td>0.000000</td>\n",
       "    </tr>\n",
       "    <tr>\n",
       "      <th>75%</th>\n",
       "      <td>75.000000</td>\n",
       "      <td>32.803127</td>\n",
       "      <td>0.000000</td>\n",
       "      <td>177.800000</td>\n",
       "      <td>969.000000</td>\n",
       "      <td>0.423611</td>\n",
       "      <td>0.0</td>\n",
       "      <td>96.800000</td>\n",
       "      <td>3.400000</td>\n",
       "      <td>301.000000</td>\n",
       "      <td>...</td>\n",
       "      <td>182.000000</td>\n",
       "      <td>333.000000</td>\n",
       "      <td>324.000000</td>\n",
       "      <td>0.00000</td>\n",
       "      <td>0.000000</td>\n",
       "      <td>0.000000</td>\n",
       "      <td>0.000000</td>\n",
       "      <td>0.000000</td>\n",
       "      <td>0.000000</td>\n",
       "      <td>0.000000</td>\n",
       "    </tr>\n",
       "    <tr>\n",
       "      <th>max</th>\n",
       "      <td>89.000000</td>\n",
       "      <td>67.814990</td>\n",
       "      <td>1.000000</td>\n",
       "      <td>195.590000</td>\n",
       "      <td>1111.000000</td>\n",
       "      <td>175.627778</td>\n",
       "      <td>0.0</td>\n",
       "      <td>186.000000</td>\n",
       "      <td>4.600000</td>\n",
       "      <td>308.000000</td>\n",
       "      <td>...</td>\n",
       "      <td>514.905000</td>\n",
       "      <td>720.000000</td>\n",
       "      <td>654.813793</td>\n",
       "      <td>1.00000</td>\n",
       "      <td>1.000000</td>\n",
       "      <td>1.000000</td>\n",
       "      <td>1.000000</td>\n",
       "      <td>1.000000</td>\n",
       "      <td>1.000000</td>\n",
       "      <td>1.000000</td>\n",
       "    </tr>\n",
       "  </tbody>\n",
       "</table>\n",
       "<p>8 rows × 171 columns</p>\n",
       "</div>"
      ],
      "text/plain": [
       "                 age            bmi  elective_surgery         height  \\\n",
       "count  125169.000000  125667.000000     130157.000000  128080.000000   \n",
       "mean       61.995103      29.110260          0.189840     169.607219   \n",
       "std        16.822880       8.262776          0.392176      10.833085   \n",
       "min         0.000000      14.844926          0.000000     137.200000   \n",
       "25%        52.000000      23.598006          0.000000     162.500000   \n",
       "50%        64.000000      27.564749          0.000000     170.100000   \n",
       "75%        75.000000      32.803127          0.000000     177.800000   \n",
       "max        89.000000      67.814990          1.000000     195.590000   \n",
       "\n",
       "              icu_id  pre_icu_los_days  readmission_status         weight  \\\n",
       "count  130157.000000     130157.000000            130157.0  126694.000000   \n",
       "mean      662.428344          0.839933                 0.0      83.791104   \n",
       "std       304.259843          2.485337                 0.0      24.963063   \n",
       "min        82.000000         -0.250000                 0.0      38.600000   \n",
       "25%       427.000000          0.045833                 0.0      66.500000   \n",
       "50%       653.000000          0.155556                 0.0      80.000000   \n",
       "75%       969.000000          0.423611                 0.0      96.800000   \n",
       "max      1111.000000        175.627778                 0.0     186.000000   \n",
       "\n",
       "       albumin_apache  apache_2_diagnosis  ...  h1_arterial_po2_min  \\\n",
       "count    51994.000000       128472.000000  ...         22712.000000   \n",
       "mean         2.886149          185.492683  ...           145.949537   \n",
       "std          0.689812           85.858208  ...           100.211935   \n",
       "min          1.200000          101.000000  ...            31.000000   \n",
       "25%          2.400000          113.000000  ...            77.000000   \n",
       "50%          2.900000          122.000000  ...           108.000000   \n",
       "75%          3.400000          301.000000  ...           182.000000   \n",
       "max          4.600000          308.000000  ...           514.905000   \n",
       "\n",
       "       h1_pao2fio2ratio_max  h1_pao2fio2ratio_min          aids  \\\n",
       "count          16760.000000          16760.000000  130157.00000   \n",
       "mean             247.525419            239.617358       0.00103   \n",
       "std              131.440167            128.562211       0.03207   \n",
       "min               42.000000             38.000000       0.00000   \n",
       "25%              144.000000            138.000000       0.00000   \n",
       "50%              228.125000            218.750000       0.00000   \n",
       "75%              333.000000            324.000000       0.00000   \n",
       "max              720.000000            654.813793       1.00000   \n",
       "\n",
       "           cirrhosis  hepatic_failure  immunosuppression       leukemia  \\\n",
       "count  130157.000000    130157.000000      130157.000000  130157.000000   \n",
       "mean        0.016081         0.013599           0.025669       0.007307   \n",
       "std         0.125786         0.115819           0.158146       0.085166   \n",
       "min         0.000000         0.000000           0.000000       0.000000   \n",
       "25%         0.000000         0.000000           0.000000       0.000000   \n",
       "50%         0.000000         0.000000           0.000000       0.000000   \n",
       "75%         0.000000         0.000000           0.000000       0.000000   \n",
       "max         1.000000         1.000000           1.000000       1.000000   \n",
       "\n",
       "            lymphoma  solid_tumor_with_metastasis  \n",
       "count  130157.000000                130157.000000  \n",
       "mean        0.004187                     0.020852  \n",
       "std         0.064574                     0.142888  \n",
       "min         0.000000                     0.000000  \n",
       "25%         0.000000                     0.000000  \n",
       "50%         0.000000                     0.000000  \n",
       "75%         0.000000                     0.000000  \n",
       "max         1.000000                     1.000000  \n",
       "\n",
       "[8 rows x 171 columns]"
      ]
     },
     "execution_count": 9,
     "metadata": {},
     "output_type": "execute_result"
    }
   ],
   "source": [
    "x_train.describe()"
   ]
  },
  {
   "cell_type": "code",
   "execution_count": 10,
   "metadata": {},
   "outputs": [],
   "source": [
    "Missing_values=pd.DataFrame(x_train.isnull().sum()/(x_train.shape[0]))"
   ]
  },
  {
   "cell_type": "code",
   "execution_count": 11,
   "metadata": {},
   "outputs": [],
   "source": [
    "Missing_values.columns=['Missing ratio']"
   ]
  },
  {
   "cell_type": "code",
   "execution_count": 12,
   "metadata": {},
   "outputs": [
    {
     "data": {
      "text/html": [
       "<div>\n",
       "<style scoped>\n",
       "    .dataframe tbody tr th:only-of-type {\n",
       "        vertical-align: middle;\n",
       "    }\n",
       "\n",
       "    .dataframe tbody tr th {\n",
       "        vertical-align: top;\n",
       "    }\n",
       "\n",
       "    .dataframe thead th {\n",
       "        text-align: right;\n",
       "    }\n",
       "</style>\n",
       "<table border=\"1\" class=\"dataframe\">\n",
       "  <thead>\n",
       "    <tr style=\"text-align: right;\">\n",
       "      <th></th>\n",
       "      <th>Missing ratio</th>\n",
       "    </tr>\n",
       "  </thead>\n",
       "  <tbody>\n",
       "    <tr>\n",
       "      <th>h1_bilirubin_min</th>\n",
       "      <td>0.920896</td>\n",
       "    </tr>\n",
       "    <tr>\n",
       "      <th>h1_bilirubin_max</th>\n",
       "      <td>0.920896</td>\n",
       "    </tr>\n",
       "    <tr>\n",
       "      <th>h1_albumin_min</th>\n",
       "      <td>0.914319</td>\n",
       "    </tr>\n",
       "    <tr>\n",
       "      <th>h1_albumin_max</th>\n",
       "      <td>0.914319</td>\n",
       "    </tr>\n",
       "    <tr>\n",
       "      <th>h1_lactate_min</th>\n",
       "      <td>0.910185</td>\n",
       "    </tr>\n",
       "    <tr>\n",
       "      <th>...</th>\n",
       "      <td>...</td>\n",
       "    </tr>\n",
       "    <tr>\n",
       "      <th>pre_icu_los_days</th>\n",
       "      <td>0.000000</td>\n",
       "    </tr>\n",
       "    <tr>\n",
       "      <th>readmission_status</th>\n",
       "      <td>0.000000</td>\n",
       "    </tr>\n",
       "    <tr>\n",
       "      <th>apache_post_operative</th>\n",
       "      <td>0.000000</td>\n",
       "    </tr>\n",
       "    <tr>\n",
       "      <th>arf_apache</th>\n",
       "      <td>0.000000</td>\n",
       "    </tr>\n",
       "    <tr>\n",
       "      <th>solid_tumor_with_metastasis</th>\n",
       "      <td>0.000000</td>\n",
       "    </tr>\n",
       "  </tbody>\n",
       "</table>\n",
       "<p>177 rows × 1 columns</p>\n",
       "</div>"
      ],
      "text/plain": [
       "                             Missing ratio\n",
       "h1_bilirubin_min                  0.920896\n",
       "h1_bilirubin_max                  0.920896\n",
       "h1_albumin_min                    0.914319\n",
       "h1_albumin_max                    0.914319\n",
       "h1_lactate_min                    0.910185\n",
       "...                                    ...\n",
       "pre_icu_los_days                  0.000000\n",
       "readmission_status                0.000000\n",
       "apache_post_operative             0.000000\n",
       "arf_apache                        0.000000\n",
       "solid_tumor_with_metastasis       0.000000\n",
       "\n",
       "[177 rows x 1 columns]"
      ]
     },
     "execution_count": 12,
     "metadata": {},
     "output_type": "execute_result"
    }
   ],
   "source": [
    "Missing_values.sort_values(by='Missing ratio',ascending=False)"
   ]
  },
  {
   "cell_type": "code",
   "execution_count": 13,
   "metadata": {},
   "outputs": [],
   "source": [
    "col_features=Missing_values[Missing_values['Missing ratio']>0.6].index"
   ]
  },
  {
   "cell_type": "code",
   "execution_count": 14,
   "metadata": {},
   "outputs": [],
   "source": [
    "x_train=x_train.drop(labels=col_features,axis=1)\n",
    "x_test=x_test.drop(labels=col_features,axis=1)"
   ]
  },
  {
   "cell_type": "code",
   "execution_count": 15,
   "metadata": {},
   "outputs": [
    {
     "name": "stdout",
     "output_type": "stream",
     "text": [
      "(130157, 110) (10234, 110)\n"
     ]
    }
   ],
   "source": [
    "print(x_train.shape,x_test.shape)"
   ]
  },
  {
   "cell_type": "code",
   "execution_count": 16,
   "metadata": {},
   "outputs": [
    {
     "data": {
      "text/html": [
       "<div>\n",
       "<style scoped>\n",
       "    .dataframe tbody tr th:only-of-type {\n",
       "        vertical-align: middle;\n",
       "    }\n",
       "\n",
       "    .dataframe tbody tr th {\n",
       "        vertical-align: top;\n",
       "    }\n",
       "\n",
       "    .dataframe thead th {\n",
       "        text-align: right;\n",
       "    }\n",
       "</style>\n",
       "<table border=\"1\" class=\"dataframe\">\n",
       "  <thead>\n",
       "    <tr style=\"text-align: right;\">\n",
       "      <th></th>\n",
       "      <th>index</th>\n",
       "      <th>0</th>\n",
       "    </tr>\n",
       "  </thead>\n",
       "  <tbody>\n",
       "    <tr>\n",
       "      <th>0</th>\n",
       "      <td>age</td>\n",
       "      <td>74</td>\n",
       "    </tr>\n",
       "    <tr>\n",
       "      <th>1</th>\n",
       "      <td>bmi</td>\n",
       "      <td>4767</td>\n",
       "    </tr>\n",
       "    <tr>\n",
       "      <th>2</th>\n",
       "      <td>elective_surgery</td>\n",
       "      <td>2</td>\n",
       "    </tr>\n",
       "    <tr>\n",
       "      <th>3</th>\n",
       "      <td>ethnicity</td>\n",
       "      <td>6</td>\n",
       "    </tr>\n",
       "    <tr>\n",
       "      <th>4</th>\n",
       "      <td>gender</td>\n",
       "      <td>2</td>\n",
       "    </tr>\n",
       "    <tr>\n",
       "      <th>...</th>\n",
       "      <td>...</td>\n",
       "      <td>...</td>\n",
       "    </tr>\n",
       "    <tr>\n",
       "      <th>105</th>\n",
       "      <td>hepatic_failure</td>\n",
       "      <td>2</td>\n",
       "    </tr>\n",
       "    <tr>\n",
       "      <th>106</th>\n",
       "      <td>immunosuppression</td>\n",
       "      <td>2</td>\n",
       "    </tr>\n",
       "    <tr>\n",
       "      <th>107</th>\n",
       "      <td>leukemia</td>\n",
       "      <td>2</td>\n",
       "    </tr>\n",
       "    <tr>\n",
       "      <th>108</th>\n",
       "      <td>lymphoma</td>\n",
       "      <td>2</td>\n",
       "    </tr>\n",
       "    <tr>\n",
       "      <th>109</th>\n",
       "      <td>solid_tumor_with_metastasis</td>\n",
       "      <td>2</td>\n",
       "    </tr>\n",
       "  </tbody>\n",
       "</table>\n",
       "<p>110 rows × 2 columns</p>\n",
       "</div>"
      ],
      "text/plain": [
       "                           index     0\n",
       "0                            age    74\n",
       "1                            bmi  4767\n",
       "2               elective_surgery     2\n",
       "3                      ethnicity     6\n",
       "4                         gender     2\n",
       "..                           ...   ...\n",
       "105              hepatic_failure     2\n",
       "106            immunosuppression     2\n",
       "107                     leukemia     2\n",
       "108                     lymphoma     2\n",
       "109  solid_tumor_with_metastasis     2\n",
       "\n",
       "[110 rows x 2 columns]"
      ]
     },
     "execution_count": 16,
     "metadata": {},
     "output_type": "execute_result"
    }
   ],
   "source": [
    "x_train.dropna().nunique().reset_index()"
   ]
  },
  {
   "cell_type": "code",
   "execution_count": 17,
   "metadata": {},
   "outputs": [],
   "source": [
    "count_values = x_train.dropna().nunique().reset_index()\n",
    "only_one = count_values[count_values[0]<2][\"index\"].to_list()"
   ]
  },
  {
   "cell_type": "code",
   "execution_count": 18,
   "metadata": {},
   "outputs": [
    {
     "data": {
      "text/plain": [
       "['readmission_status', 'gcs_unable_apache']"
      ]
     },
     "execution_count": 18,
     "metadata": {},
     "output_type": "execute_result"
    }
   ],
   "source": [
    "only_one"
   ]
  },
  {
   "cell_type": "code",
   "execution_count": 19,
   "metadata": {},
   "outputs": [],
   "source": [
    "x_train.drop(columns=only_one, inplace = True)\n",
    "x_test.drop(columns=only_one, inplace = True)"
   ]
  },
  {
   "cell_type": "code",
   "execution_count": 20,
   "metadata": {},
   "outputs": [
    {
     "name": "stdout",
     "output_type": "stream",
     "text": [
      "(130157, 108) (10234, 108)\n"
     ]
    }
   ],
   "source": [
    "print(x_train.shape,x_test.shape)"
   ]
  },
  {
   "cell_type": "code",
   "execution_count": 21,
   "metadata": {},
   "outputs": [],
   "source": [
    "categorical_features=[]\n",
    "numerical_features=[]\n",
    "for features in x_train.columns:\n",
    "    if (x_train[features]).dtype=='O':\n",
    "        categorical_features.append(features)\n",
    "    elif (x_train[features]).dtype=='int' or (x_train[features]).dtype=='float':\n",
    "        numerical_features.append(features)\n"
   ]
  },
  {
   "cell_type": "code",
   "execution_count": 22,
   "metadata": {},
   "outputs": [
    {
     "data": {
      "text/plain": [
       "102"
      ]
     },
     "execution_count": 22,
     "metadata": {},
     "output_type": "execute_result"
    }
   ],
   "source": [
    "len(numerical_features)"
   ]
  },
  {
   "cell_type": "code",
   "execution_count": 23,
   "metadata": {},
   "outputs": [
    {
     "data": {
      "image/png": "[encoded data removed]",
      "text/plain": [
       "<Figure size 1440x1440 with 1 Axes>"
      ]
     },
     "metadata": {
      "needs_background": "light"
     },
     "output_type": "display_data"
    }
   ],
   "source": [
    "plt.figure(figsize=(20,20))\n",
    "ax = sns.boxplot(data=x_train, orient=\"h\", palette=\"Set2\")"
   ]
  },
  {
   "cell_type": "code",
   "execution_count": 24,
   "metadata": {},
   "outputs": [],
   "source": [
    "df=pd.get_dummies(x_train[categorical_features])\n",
    "x_train=pd.concat([x_train,df],axis=1)\n",
    "df2=pd.get_dummies(x_test[categorical_features])\n",
    "x_test=pd.concat([x_test,df2],axis=1)"
   ]
  },
  {
   "cell_type": "code",
   "execution_count": 25,
   "metadata": {},
   "outputs": [
    {
     "name": "stdout",
     "output_type": "stream",
     "text": [
      "(130157, 147) (10234, 142)\n"
     ]
    }
   ],
   "source": [
    "print(x_train.shape,x_test.shape)"
   ]
  },
  {
   "cell_type": "code",
   "execution_count": 26,
   "metadata": {},
   "outputs": [],
   "source": [
    "column=[]\n",
    "for i in x_train.columns:\n",
    "    if i not in x_test.columns:\n",
    "        column.append(i)"
   ]
  },
  {
   "cell_type": "code",
   "execution_count": 27,
   "metadata": {},
   "outputs": [
    {
     "data": {
      "text/plain": [
       "['hospital_admit_source_Acute Care/Floor',\n",
       " 'hospital_admit_source_ICU',\n",
       " 'hospital_admit_source_Observation',\n",
       " 'hospital_admit_source_Other',\n",
       " 'hospital_admit_source_PACU']"
      ]
     },
     "execution_count": 27,
     "metadata": {},
     "output_type": "execute_result"
    }
   ],
   "source": [
    "column"
   ]
  },
  {
   "cell_type": "code",
   "execution_count": 28,
   "metadata": {},
   "outputs": [],
   "source": [
    "x_train=x_train.drop(labels=column,axis=1)"
   ]
  },
  {
   "cell_type": "code",
   "execution_count": 29,
   "metadata": {},
   "outputs": [
    {
     "name": "stdout",
     "output_type": "stream",
     "text": [
      "(130157, 142) (10234, 142)\n"
     ]
    }
   ],
   "source": [
    "print(x_train.shape,x_test.shape)"
   ]
  },
  {
   "cell_type": "code",
   "execution_count": 30,
   "metadata": {},
   "outputs": [],
   "source": [
    "x_train=x_train.drop(labels=categorical_features,axis=1)\n",
    "x_test=x_test.drop(labels=categorical_features,axis=1)"
   ]
  },
  {
   "cell_type": "code",
   "execution_count": 31,
   "metadata": {},
   "outputs": [
    {
     "name": "stdout",
     "output_type": "stream",
     "text": [
      "(130157, 136) (10234, 136)\n"
     ]
    }
   ],
   "source": [
    "print(x_train.shape,x_test.shape)"
   ]
  },
  {
   "cell_type": "code",
   "execution_count": 32,
   "metadata": {},
   "outputs": [],
   "source": [
    "for i in x_train.columns:\n",
    "    if (x_train[i]).dtype=='int32' or(x_train[i]).dtype=='float64' :\n",
    "        x_train[i] =x_train[i].fillna(x_train[i].mean())\n",
    "        x_test[i]=x_test[i].fillna(x_train[i].mean())\n",
    "    "
   ]
  },
  {
   "cell_type": "code",
   "execution_count": 33,
   "metadata": {},
   "outputs": [],
   "source": [
    "X_train,X_val,Y_train,Y_val=train_test_split(x_train,Y_train,test_size=0.3,stratify=Y_train)"
   ]
  },
  {
   "cell_type": "code",
   "execution_count": 34,
   "metadata": {},
   "outputs": [
    {
     "name": "stdout",
     "output_type": "stream",
     "text": [
      "(91109, 136) (39048, 136)\n"
     ]
    }
   ],
   "source": [
    "print(X_train.shape,X_val.shape)"
   ]
  },
  {
   "cell_type": "markdown",
   "metadata": {},
   "source": [
    "### Modeling"
   ]
  },
  {
   "cell_type": "code",
   "execution_count": 35,
   "metadata": {},
   "outputs": [],
   "source": [
    "from sklearn.ensemble import RandomForestClassifier"
   ]
  },
  {
   "cell_type": "code",
   "execution_count": 36,
   "metadata": {},
   "outputs": [],
   "source": [
    "rnd_clf=RandomForestClassifier(n_estimators=200,verbose=2,n_jobs=-1,random_state=42,class_weight='balanced')"
   ]
  },
  {
   "cell_type": "code",
   "execution_count": 37,
   "metadata": {},
   "outputs": [
    {
     "name": "stderr",
     "output_type": "stream",
     "text": [
      "[Parallel(n_jobs=-1)]: Using backend ThreadingBackend with 4 concurrent workers.\n"
     ]
    },
    {
     "name": "stdout",
     "output_type": "stream",
     "text": [
      "building tree 1 of 200building tree 2 of 200\n",
      "building tree 3 of 200building tree 4 of 200\n",
      "\n",
      "\n",
      "building tree 5 of 200\n",
      "building tree 6 of 200\n",
      "building tree 7 of 200\n",
      "building tree 8 of 200\n",
      "building tree 9 of 200\n",
      "building tree 10 of 200\n",
      "building tree 11 of 200\n",
      "building tree 12 of 200\n",
      "building tree 13 of 200\n",
      "building tree 14 of 200\n",
      "building tree 15 of 200\n",
      "building tree 16 of 200\n",
      "building tree 17 of 200\n",
      "building tree 18 of 200\n",
      "building tree 19 of 200\n",
      "building tree 20 of 200\n",
      "building tree 21 of 200\n",
      "building tree 22 of 200\n",
      "building tree 23 of 200\n",
      "building tree 24 of 200\n",
      "building tree 25 of 200\n",
      "building tree 26 of 200\n",
      "building tree 27 of 200\n",
      "building tree 28 of 200\n",
      "building tree 29 of 200\n",
      "building tree 30 of 200\n",
      "building tree 31 of 200\n",
      "building tree 32 of 200\n",
      "building tree 33 of 200\n",
      "building tree 34 of 200\n",
      "building tree 35 of 200\n",
      "building tree 36 of 200\n"
     ]
    },
    {
     "name": "stderr",
     "output_type": "stream",
     "text": [
      "[Parallel(n_jobs=-1)]: Done  33 tasks      | elapsed:    7.6s\n"
     ]
    },
    {
     "name": "stdout",
     "output_type": "stream",
     "text": [
      "building tree 37 of 200\n",
      "building tree 38 of 200\n",
      "building tree 39 of 200\n",
      "building tree 40 of 200\n",
      "building tree 41 of 200\n",
      "building tree 42 of 200\n",
      "building tree 43 of 200\n",
      "building tree 44 of 200\n",
      "building tree 45 of 200\n",
      "building tree 46 of 200\n",
      "building tree 47 of 200\n",
      "building tree 48 of 200\n",
      "building tree 49 of 200\n",
      "building tree 50 of 200\n",
      "building tree 51 of 200\n",
      "building tree 52 of 200\n",
      "building tree 53 of 200\n",
      "building tree 54 of 200\n",
      "building tree 55 of 200\n",
      "building tree 56 of 200\n",
      "building tree 57 of 200\n",
      "building tree 58 of 200\n",
      "building tree 59 of 200\n",
      "building tree 60 of 200\n",
      "building tree 61 of 200\n",
      "building tree 62 of 200\n",
      "building tree 63 of 200\n",
      "building tree 64 of 200\n",
      "building tree 65 of 200\n",
      "building tree 66 of 200\n",
      "building tree 67 of 200\n",
      "building tree 68 of 200\n",
      "building tree 69 of 200\n",
      "building tree 70 of 200\n",
      "building tree 71 of 200\n",
      "building tree 72 of 200\n",
      "building tree 73 of 200\n",
      "building tree 74 of 200\n",
      "building tree 75 of 200\n",
      "building tree 76 of 200\n",
      "building tree 77 of 200\n",
      "building tree 78 of 200\n",
      "building tree 79 of 200\n",
      "building tree 80 of 200\n",
      "building tree 81 of 200\n",
      "building tree 82 of 200\n",
      "building tree 83 of 200\n",
      "building tree 84 of 200\n",
      "building tree 85 of 200\n",
      "building tree 86 of 200\n",
      "building tree 87 of 200\n",
      "building tree 88 of 200\n",
      "building tree 89 of 200\n",
      "building tree 90 of 200\n",
      "building tree 91 of 200\n",
      "building tree 92 of 200\n",
      "building tree 93 of 200\n",
      "building tree 94 of 200\n",
      "building tree 95 of 200\n",
      "building tree 96 of 200\n",
      "building tree 97 of 200\n",
      "building tree 98 of 200\n",
      "building tree 99 of 200\n",
      "building tree 100 of 200\n",
      "building tree 101 of 200\n",
      "building tree 102 of 200\n",
      "building tree 103 of 200\n",
      "building tree 104 of 200\n",
      "building tree 105 of 200\n",
      "building tree 106 of 200\n",
      "building tree 107 of 200\n",
      "building tree 108 of 200\n",
      "building tree 109 of 200\n",
      "building tree 110 of 200\n",
      "building tree 111 of 200\n",
      "building tree 112 of 200\n",
      "building tree 113 of 200\n",
      "building tree 114 of 200\n",
      "building tree 115 of 200\n",
      "building tree 116 of 200\n",
      "building tree 117 of 200\n",
      "building tree 118 of 200\n",
      "building tree 119 of 200\n",
      "building tree 120 of 200\n",
      "building tree 121 of 200\n",
      "building tree 122 of 200\n",
      "building tree 123 of 200\n",
      "building tree 124 of 200\n",
      "building tree 125 of 200\n",
      "building tree 126 of 200\n",
      "building tree 127 of 200\n",
      "building tree 128 of 200\n",
      "building tree 129 of 200\n",
      "building tree 130 of 200\n",
      "building tree 131 of 200\n",
      "building tree 132 of 200\n",
      "building tree 133 of 200\n",
      "building tree 134 of 200\n",
      "building tree 135 of 200\n",
      "building tree 136 of 200\n",
      "building tree 137 of 200\n",
      "building tree 138 of 200\n",
      "building tree 139 of 200\n",
      "building tree 140 of 200\n",
      "building tree 141 of 200\n",
      "building tree 142 of 200\n",
      "building tree 143 of 200\n",
      "building tree 144 of 200\n",
      "building tree 145 of 200\n",
      "building tree 146 of 200\n",
      "building tree 147 of 200\n",
      "building tree 148 of 200\n",
      "building tree 149 of 200\n",
      "building tree 150 of 200\n",
      "building tree 151 of 200\n",
      "building tree 152 of 200\n",
      "building tree 153 of 200\n",
      "building tree 154 of 200\n",
      "building tree 155 of 200\n",
      "building tree 156 of 200\n",
      "building tree 157 of 200\n"
     ]
    },
    {
     "name": "stderr",
     "output_type": "stream",
     "text": [
      "[Parallel(n_jobs=-1)]: Done 154 tasks      | elapsed:   33.8s\n"
     ]
    },
    {
     "name": "stdout",
     "output_type": "stream",
     "text": [
      "building tree 158 of 200\n",
      "building tree 159 of 200\n",
      "building tree 160 of 200\n",
      "building tree 161 of 200\n",
      "building tree 162 of 200\n",
      "building tree 163 of 200\n",
      "building tree 164 of 200\n",
      "building tree 165 of 200\n",
      "building tree 166 of 200\n",
      "building tree 167 of 200\n",
      "building tree 168 of 200\n",
      "building tree 169 of 200\n",
      "building tree 170 of 200\n",
      "building tree 171 of 200\n",
      "building tree 172 of 200\n",
      "building tree 173 of 200\n",
      "building tree 174 of 200\n",
      "building tree 175 of 200\n",
      "building tree 176 of 200\n",
      "building tree 177 of 200\n",
      "building tree 178 of 200\n",
      "building tree 179 of 200\n",
      "building tree 180 of 200\n",
      "building tree 181 of 200\n",
      "building tree 182 of 200\n",
      "building tree 183 of 200\n",
      "building tree 184 of 200\n",
      "building tree 185 of 200\n",
      "building tree 186 of 200\n",
      "building tree 187 of 200\n",
      "building tree 188 of 200\n",
      "building tree 189 of 200\n",
      "building tree 190 of 200\n",
      "building tree 191 of 200\n",
      "building tree 192 of 200\n",
      "building tree 193 of 200\n",
      "building tree 194 of 200\n",
      "building tree 195 of 200\n",
      "building tree 196 of 200\n",
      "building tree 197 of 200\n",
      "building tree 198 of 200\n",
      "building tree 199 of 200\n",
      "building tree 200 of 200\n"
     ]
    },
    {
     "name": "stderr",
     "output_type": "stream",
     "text": [
      "[Parallel(n_jobs=-1)]: Done 200 out of 200 | elapsed:   43.6s finished\n"
     ]
    },
    {
     "data": {
      "text/plain": [
       "RandomForestClassifier(class_weight='balanced', n_estimators=200, n_jobs=-1,\n",
       "                       random_state=42, verbose=2)"
      ]
     },
     "execution_count": 37,
     "metadata": {},
     "output_type": "execute_result"
    }
   ],
   "source": [
    "rnd_clf.fit(X_train,Y_train)"
   ]
  },
  {
   "cell_type": "code",
   "execution_count": 38,
   "metadata": {},
   "outputs": [],
   "source": [
    "feature_imp={}\n",
    "for i,j in enumerate(X_train.columns):\n",
    "    feature_imp[j]=rnd_clf.feature_importances_[i]"
   ]
  },
  {
   "cell_type": "code",
   "execution_count": 39,
   "metadata": {},
   "outputs": [
    {
     "data": {
      "text/plain": [
       "{'age': 0.018302948850391205,\n",
       " 'bmi': 0.027522363727746763,\n",
       " 'elective_surgery': 0.0008080715730264813,\n",
       " 'height': 0.008623213791680611,\n",
       " 'icu_id': 0.011203207081638829,\n",
       " 'pre_icu_los_days': 0.01046291121378991,\n",
       " 'weight': 0.021199839643599255,\n",
       " 'apache_2_diagnosis': 0.009844310990122264,\n",
       " 'apache_3j_diagnosis': 0.010243608746369126,\n",
       " 'apache_post_operative': 0.0007866187680375893,\n",
       " 'arf_apache': 0.002809638841885537,\n",
       " 'bun_apache': 0.010058783865503108,\n",
       " 'creatinine_apache': 0.011555221757143108,\n",
       " 'gcs_eyes_apache': 0.002754121053466337,\n",
       " 'gcs_motor_apache': 0.0029597598847728225,\n",
       " 'gcs_verbal_apache': 0.0028259992956165213,\n",
       " 'glucose_apache': 0.06602094160113924,\n",
       " 'heart_rate_apache': 0.01010498250545835,\n",
       " 'hematocrit_apache': 0.008608587822444199,\n",
       " 'intubated_apache': 0.0014003009554758522,\n",
       " 'map_apache': 0.008468692060586508,\n",
       " 'resprate_apache': 0.00809617840220785,\n",
       " 'sodium_apache': 0.006772044533652834,\n",
       " 'temp_apache': 0.007785657578925126,\n",
       " 'urineoutput_apache': 0.008318138774355159,\n",
       " 'ventilated_apache': 0.00209771916263488,\n",
       " 'wbc_apache': 0.009116175884970677,\n",
       " 'd1_diasbp_max': 0.008025837901256693,\n",
       " 'd1_diasbp_min': 0.007655167145906564,\n",
       " 'd1_diasbp_noninvasive_max': 0.007910713712780595,\n",
       " 'd1_diasbp_noninvasive_min': 0.007614642551469771,\n",
       " 'd1_heartrate_max': 0.009837249463915823,\n",
       " 'd1_heartrate_min': 0.008988854728821539,\n",
       " 'd1_mbp_max': 0.007573268063457244,\n",
       " 'd1_mbp_min': 0.0074429502125103455,\n",
       " 'd1_mbp_noninvasive_max': 0.007492580060225831,\n",
       " 'd1_mbp_noninvasive_min': 0.007349337930834259,\n",
       " 'd1_resprate_max': 0.007917899182937914,\n",
       " 'd1_resprate_min': 0.007303142004277715,\n",
       " 'd1_spo2_max': 0.0030273059846038703,\n",
       " 'd1_spo2_min': 0.00749317574462274,\n",
       " 'd1_sysbp_max': 0.008964975651250363,\n",
       " 'd1_sysbp_min': 0.008531097320060516,\n",
       " 'd1_sysbp_noninvasive_max': 0.009187965632704775,\n",
       " 'd1_sysbp_noninvasive_min': 0.008297858565006692,\n",
       " 'd1_temp_max': 0.007816159484011587,\n",
       " 'd1_temp_min': 0.007584812749909253,\n",
       " 'h1_diasbp_max': 0.00800634911862438,\n",
       " 'h1_diasbp_min': 0.008059343369713135,\n",
       " 'h1_diasbp_noninvasive_max': 0.007542330451866543,\n",
       " 'h1_diasbp_noninvasive_min': 0.007796376788667552,\n",
       " 'h1_heartrate_max': 0.009095227704279181,\n",
       " 'h1_heartrate_min': 0.008981618219484415,\n",
       " 'h1_mbp_max': 0.00712295208822785,\n",
       " 'h1_mbp_min': 0.007211463658564455,\n",
       " 'h1_mbp_noninvasive_max': 0.0069251501966110015,\n",
       " 'h1_mbp_noninvasive_min': 0.006844265152811638,\n",
       " 'h1_resprate_max': 0.007774025735242587,\n",
       " 'h1_resprate_min': 0.0076756111660639,\n",
       " 'h1_spo2_max': 0.004637939477839867,\n",
       " 'h1_spo2_min': 0.006111786015336625,\n",
       " 'h1_sysbp_max': 0.00819736949501798,\n",
       " 'h1_sysbp_min': 0.007905348598666937,\n",
       " 'h1_sysbp_noninvasive_max': 0.008006988744117758,\n",
       " 'h1_sysbp_noninvasive_min': 0.007956336836836662,\n",
       " 'h1_temp_max': 0.007200683466419562,\n",
       " 'h1_temp_min': 0.007073812536857652,\n",
       " 'd1_albumin_max': 0.00511046746888985,\n",
       " 'd1_albumin_min': 0.005169018461056658,\n",
       " 'd1_bilirubin_max': 0.004780711279354379,\n",
       " 'd1_bilirubin_min': 0.004587183317976621,\n",
       " 'd1_bun_max': 0.0117132978381519,\n",
       " 'd1_bun_min': 0.010628017119909515,\n",
       " 'd1_calcium_max': 0.007956709368693289,\n",
       " 'd1_calcium_min': 0.008813760703903,\n",
       " 'd1_creatinine_max': 0.013011328158681702,\n",
       " 'd1_creatinine_min': 0.013759862079519142,\n",
       " 'd1_glucose_max': 0.10361863506551401,\n",
       " 'd1_glucose_min': 0.02389248063728633,\n",
       " 'd1_hco3_max': 0.006981569304607821,\n",
       " 'd1_hco3_min': 0.008275418913346344,\n",
       " 'd1_hemaglobin_max': 0.009807135612387762,\n",
       " 'd1_hemaglobin_min': 0.00868414406647442,\n",
       " 'd1_hematocrit_max': 0.00976427827517696,\n",
       " 'd1_hematocrit_min': 0.009077279259974166,\n",
       " 'd1_platelets_max': 0.0090871429704345,\n",
       " 'd1_platelets_min': 0.00984456322210759,\n",
       " 'd1_potassium_max': 0.008160246592213672,\n",
       " 'd1_potassium_min': 0.007537607286361461,\n",
       " 'd1_sodium_max': 0.006860921376533795,\n",
       " 'd1_sodium_min': 0.006926459795255124,\n",
       " 'd1_wbc_max': 0.009785514428958687,\n",
       " 'd1_wbc_min': 0.009175174046964545,\n",
       " 'h1_glucose_max': 0.023100864302728463,\n",
       " 'h1_glucose_min': 0.024226042898042824,\n",
       " 'aids': 1.9495772399495362e-05,\n",
       " 'cirrhosis': 0.00034469583224929455,\n",
       " 'hepatic_failure': 0.0002612749168730917,\n",
       " 'immunosuppression': 0.0004393937088505841,\n",
       " 'leukemia': 0.0002114258284830423,\n",
       " 'lymphoma': 0.00011268231870396696,\n",
       " 'solid_tumor_with_metastasis': 0.00038098518330906007,\n",
       " 'ethnicity_African American': 0.0009925123176014355,\n",
       " 'ethnicity_Asian': 0.0005444030514706108,\n",
       " 'ethnicity_Caucasian': 0.0017183897789620126,\n",
       " 'ethnicity_Hispanic': 0.0006104316066539423,\n",
       " 'ethnicity_Native American': 0.00026820788810031867,\n",
       " 'ethnicity_Other/Unknown': 0.0007008525506184212,\n",
       " 'gender_F': 0.001003257320330109,\n",
       " 'gender_M': 0.0010422904289868963,\n",
       " 'hospital_admit_source_Chest Pain Center': 0.00011533813040336677,\n",
       " 'hospital_admit_source_Direct Admit': 0.000711823941452449,\n",
       " 'hospital_admit_source_Emergency Department': 0.0011123872842551193,\n",
       " 'hospital_admit_source_Floor': 0.0007682385860424472,\n",
       " 'hospital_admit_source_ICU to SDU': 1.8658302871223486e-05,\n",
       " 'hospital_admit_source_Operating Room': 0.0007192463884197495,\n",
       " 'hospital_admit_source_Other Hospital': 0.0004008421795696662,\n",
       " 'hospital_admit_source_Other ICU': 9.743209808332233e-05,\n",
       " 'hospital_admit_source_Recovery Room': 0.0005617886049281861,\n",
       " 'hospital_admit_source_Step-Down Unit (SDU)': 0.00027358310644609915,\n",
       " 'icu_admit_source_Accident & Emergency': 0.0010855967665382674,\n",
       " 'icu_admit_source_Floor': 0.000869415191518078,\n",
       " 'icu_admit_source_Operating Room / Recovery': 0.0008240918782583216,\n",
       " 'icu_admit_source_Other Hospital': 0.0004852855694588863,\n",
       " 'icu_admit_source_Other ICU': 0.0002122608852003129,\n",
       " 'icu_stay_type_admit': 0.0006129883554990044,\n",
       " 'icu_stay_type_readmit': 0.00021165094624609317,\n",
       " 'icu_stay_type_transfer': 0.0005788849716524035,\n",
       " 'icu_type_CCU-CTICU': 0.0008926481380658663,\n",
       " 'icu_type_CSICU': 0.0007332601403043769,\n",
       " 'icu_type_CTICU': 0.0006085688619562743,\n",
       " 'icu_type_Cardiac ICU': 0.0007073107742152581,\n",
       " 'icu_type_MICU': 0.0007622005539586707,\n",
       " 'icu_type_Med-Surg ICU': 0.001096785069450198,\n",
       " 'icu_type_Neuro ICU': 0.0008696844278390852,\n",
       " 'icu_type_SICU': 0.0007938852148165334}"
      ]
     },
     "execution_count": 39,
     "metadata": {},
     "output_type": "execute_result"
    }
   ],
   "source": [
    "feature_imp"
   ]
  },
  {
   "cell_type": "code",
   "execution_count": 40,
   "metadata": {},
   "outputs": [],
   "source": [
    "feature_imp_df=pd.DataFrame.from_dict(feature_imp,orient='index')"
   ]
  },
  {
   "cell_type": "code",
   "execution_count": 41,
   "metadata": {},
   "outputs": [],
   "source": [
    "feature_imp_df.columns=['Significance value']"
   ]
  },
  {
   "cell_type": "code",
   "execution_count": 42,
   "metadata": {},
   "outputs": [
    {
     "data": {
      "text/plain": [
       "<AxesSubplot:>"
      ]
     },
     "execution_count": 42,
     "metadata": {},
     "output_type": "execute_result"
    },
    {
     "data": {
      "image/png": "[encoded data removed]",
      "text/plain": [
       "<Figure size 1440x288 with 1 Axes>"
      ]
     },
     "metadata": {
      "needs_background": "light"
     },
     "output_type": "display_data"
    }
   ],
   "source": [
    "\n",
    "feature_imp_df.sort_values(by='Significance value',ascending=False).plot(kind='bar',figsize=(20, 4))"
   ]
  },
  {
   "cell_type": "code",
   "execution_count": 43,
   "metadata": {},
   "outputs": [],
   "source": [
    "feature_selected=feature_imp_df.sort_values(by='Significance value',ascending=False).index[0:10]"
   ]
  },
  {
   "cell_type": "code",
   "execution_count": 44,
   "metadata": {},
   "outputs": [
    {
     "data": {
      "text/plain": [
       "Index(['d1_glucose_max', 'glucose_apache', 'bmi', 'h1_glucose_min',\n",
       "       'd1_glucose_min', 'h1_glucose_max', 'weight', 'age',\n",
       "       'd1_creatinine_min', 'd1_creatinine_max'],\n",
       "      dtype='object')"
      ]
     },
     "execution_count": 44,
     "metadata": {},
     "output_type": "execute_result"
    }
   ],
   "source": [
    "feature_selected"
   ]
  },
  {
   "cell_type": "code",
   "execution_count": 45,
   "metadata": {},
   "outputs": [],
   "source": [
    "X_train_final=X_train[feature_selected]\n",
    "X_val_final=X_val[feature_selected]\n",
    "X_test_final=x_test[feature_selected]"
   ]
  },
  {
   "cell_type": "code",
   "execution_count": 46,
   "metadata": {},
   "outputs": [
    {
     "name": "stdout",
     "output_type": "stream",
     "text": [
      "(91109, 10) (39048, 10) (10234, 10)\n"
     ]
    }
   ],
   "source": [
    "print(X_train_final.shape,X_val_final.shape,X_test_final.shape)"
   ]
  },
  {
   "cell_type": "code",
   "execution_count": 47,
   "metadata": {},
   "outputs": [
    {
     "name": "stderr",
     "output_type": "stream",
     "text": [
      "[Parallel(n_jobs=-1)]: Using backend ThreadingBackend with 4 concurrent workers.\n"
     ]
    },
    {
     "name": "stdout",
     "output_type": "stream",
     "text": [
      "building tree 1 of 300\n",
      "building tree 2 of 300\n",
      "building tree 3 of 300building tree 4 of 300\n",
      "\n",
      "building tree 5 of 300\n",
      "building tree 6 of 300\n",
      "building tree 7 of 300\n",
      "building tree 8 of 300\n",
      "building tree 9 of 300\n",
      "building tree 10 of 300\n",
      "building tree 11 of 300\n",
      "building tree 12 of 300\n",
      "building tree 13 of 300\n",
      "building tree 14 of 300\n",
      "building tree 15 of 300\n",
      "building tree 16 of 300\n",
      "building tree 17 of 300\n",
      "building tree 18 of 300\n",
      "building tree 19 of 300\n",
      "building tree 20 of 300\n",
      "building tree 21 of 300\n",
      "building tree 22 of 300\n",
      "building tree 23 of 300\n",
      "building tree 24 of 300\n",
      "building tree 25 of 300\n",
      "building tree 26 of 300\n",
      "building tree 27 of 300\n",
      "building tree 28 of 300\n",
      "building tree 29 of 300\n",
      "building tree 30 of 300\n",
      "building tree 31 of 300\n",
      "building tree 32 of 300\n",
      "building tree 33 of 300\n",
      "building tree 34 of 300\n",
      "building tree 35 of 300\n",
      "building tree 36 of 300\n"
     ]
    },
    {
     "name": "stderr",
     "output_type": "stream",
     "text": [
      "[Parallel(n_jobs=-1)]: Done  33 tasks      | elapsed:    3.3s\n"
     ]
    },
    {
     "name": "stdout",
     "output_type": "stream",
     "text": [
      "building tree 37 of 300\n",
      "building tree 38 of 300\n",
      "building tree 39 of 300\n",
      "building tree 40 of 300\n",
      "building tree 41 of 300\n",
      "building tree 42 of 300\n",
      "building tree 43 of 300\n",
      "building tree 44 of 300\n",
      "building tree 45 of 300\n",
      "building tree 46 of 300\n",
      "building tree 47 of 300\n",
      "building tree 48 of 300\n",
      "building tree 49 of 300\n",
      "building tree 50 of 300\n",
      "building tree 51 of 300\n",
      "building tree 52 of 300\n",
      "building tree 53 of 300\n",
      "building tree 54 of 300\n",
      "building tree 55 of 300\n",
      "building tree 56 of 300\n",
      "building tree 57 of 300\n",
      "building tree 58 of 300\n",
      "building tree 59 of 300\n",
      "building tree 60 of 300\n",
      "building tree 61 of 300\n",
      "building tree 62 of 300\n",
      "building tree 63 of 300\n",
      "building tree 64 of 300\n",
      "building tree 65 of 300\n",
      "building tree 66 of 300\n",
      "building tree 67 of 300\n",
      "building tree 68 of 300\n",
      "building tree 69 of 300\n",
      "building tree 70 of 300\n",
      "building tree 71 of 300\n",
      "building tree 72 of 300\n",
      "building tree 73 of 300\n",
      "building tree 74 of 300\n",
      "building tree 75 of 300\n",
      "building tree 76 of 300\n",
      "building tree 77 of 300\n",
      "building tree 78 of 300\n",
      "building tree 79 of 300\n",
      "building tree 80 of 300\n",
      "building tree 81 of 300\n",
      "building tree 82 of 300\n",
      "building tree 83 of 300\n",
      "building tree 84 of 300\n",
      "building tree 85 of 300\n",
      "building tree 86 of 300\n",
      "building tree 87 of 300\n",
      "building tree 88 of 300\n",
      "building tree 89 of 300\n",
      "building tree 90 of 300\n",
      "building tree 91 of 300\n",
      "building tree 92 of 300\n",
      "building tree 93 of 300\n",
      "building tree 94 of 300\n",
      "building tree 95 of 300\n",
      "building tree 96 of 300\n",
      "building tree 97 of 300\n",
      "building tree 98 of 300\n",
      "building tree 99 of 300\n",
      "building tree 100 of 300\n",
      "building tree 101 of 300\n",
      "building tree 102 of 300\n",
      "building tree 103 of 300\n",
      "building tree 104 of 300\n",
      "building tree 105 of 300\n",
      "building tree 106 of 300\n",
      "building tree 107 of 300\n",
      "building tree 108 of 300\n",
      "building tree 109 of 300\n",
      "building tree 110 of 300\n",
      "building tree 111 of 300\n",
      "building tree 112 of 300\n",
      "building tree 113 of 300\n",
      "building tree 114 of 300\n",
      "building tree 115 of 300\n",
      "building tree 116 of 300\n",
      "building tree 117 of 300\n",
      "building tree 118 of 300\n",
      "building tree 119 of 300\n",
      "building tree 120 of 300\n",
      "building tree 121 of 300\n",
      "building tree 122 of 300\n",
      "building tree 123 of 300\n",
      "building tree 124 of 300\n",
      "building tree 125 of 300\n",
      "building tree 126 of 300\n",
      "building tree 127 of 300\n",
      "building tree 128 of 300\n",
      "building tree 129 of 300\n",
      "building tree 130 of 300\n",
      "building tree 131 of 300\n",
      "building tree 132 of 300\n",
      "building tree 133 of 300\n",
      "building tree 134 of 300\n",
      "building tree 135 of 300\n",
      "building tree 136 of 300\n",
      "building tree 137 of 300\n",
      "building tree 138 of 300\n",
      "building tree 139 of 300\n",
      "building tree 140 of 300\n",
      "building tree 141 of 300\n",
      "building tree 142 of 300\n",
      "building tree 143 of 300\n",
      "building tree 144 of 300\n",
      "building tree 145 of 300\n",
      "building tree 146 of 300\n",
      "building tree 147 of 300\n",
      "building tree 148 of 300\n",
      "building tree 149 of 300\n",
      "building tree 150 of 300\n",
      "building tree 151 of 300\n",
      "building tree 152 of 300\n",
      "building tree 153 of 300\n",
      "building tree 154 of 300\n",
      "building tree 155 of 300\n",
      "building tree 156 of 300\n",
      "building tree 157 of 300\n",
      "building tree 158 of 300\n"
     ]
    },
    {
     "name": "stderr",
     "output_type": "stream",
     "text": [
      "[Parallel(n_jobs=-1)]: Done 154 tasks      | elapsed:   14.2s\n"
     ]
    },
    {
     "name": "stdout",
     "output_type": "stream",
     "text": [
      "building tree 159 of 300\n",
      "building tree 160 of 300\n",
      "building tree 161 of 300\n",
      "building tree 162 of 300\n",
      "building tree 163 of 300\n",
      "building tree 164 of 300\n",
      "building tree 165 of 300\n",
      "building tree 166 of 300\n",
      "building tree 167 of 300\n",
      "building tree 168 of 300\n",
      "building tree 169 of 300\n",
      "building tree 170 of 300\n",
      "building tree 171 of 300\n",
      "building tree 172 of 300\n",
      "building tree 173 of 300\n",
      "building tree 174 of 300\n",
      "building tree 175 of 300\n",
      "building tree 176 of 300\n",
      "building tree 177 of 300\n",
      "building tree 178 of 300\n",
      "building tree 179 of 300\n",
      "building tree 180 of 300\n",
      "building tree 181 of 300\n",
      "building tree 182 of 300\n",
      "building tree 183 of 300\n",
      "building tree 184 of 300\n",
      "building tree 185 of 300\n",
      "building tree 186 of 300\n",
      "building tree 187 of 300\n",
      "building tree 188 of 300\n",
      "building tree 189 of 300\n",
      "building tree 190 of 300\n",
      "building tree 191 of 300\n",
      "building tree 192 of 300\n",
      "building tree 193 of 300\n",
      "building tree 194 of 300\n",
      "building tree 195 of 300\n",
      "building tree 196 of 300\n",
      "building tree 197 of 300\n",
      "building tree 198 of 300\n",
      "building tree 199 of 300\n",
      "building tree 200 of 300\n",
      "building tree 201 of 300\n",
      "building tree 202 of 300\n",
      "building tree 203 of 300\n",
      "building tree 204 of 300\n",
      "building tree 205 of 300\n",
      "building tree 206 of 300\n",
      "building tree 207 of 300\n",
      "building tree 208 of 300\n",
      "building tree 209 of 300\n",
      "building tree 210 of 300\n",
      "building tree 211 of 300\n",
      "building tree 212 of 300\n",
      "building tree 213 of 300\n",
      "building tree 214 of 300\n",
      "building tree 215 of 300\n",
      "building tree 216 of 300\n",
      "building tree 217 of 300\n",
      "building tree 218 of 300\n",
      "building tree 219 of 300\n",
      "building tree 220 of 300\n",
      "building tree 221 of 300\n",
      "building tree 222 of 300\n",
      "building tree 223 of 300\n",
      "building tree 224 of 300\n",
      "building tree 225 of 300\n",
      "building tree 226 of 300\n",
      "building tree 227 of 300\n",
      "building tree 228 of 300\n",
      "building tree 229 of 300\n",
      "building tree 230 of 300\n",
      "building tree 231 of 300\n",
      "building tree 232 of 300\n",
      "building tree 233 of 300\n",
      "building tree 234 of 300\n",
      "building tree 235 of 300\n",
      "building tree 236 of 300\n",
      "building tree 237 of 300\n",
      "building tree 238 of 300\n",
      "building tree 239 of 300\n",
      "building tree 240 of 300\n",
      "building tree 241 of 300\n",
      "building tree 242 of 300\n",
      "building tree 243 of 300\n",
      "building tree 244 of 300\n",
      "building tree 245 of 300\n",
      "building tree 246 of 300\n",
      "building tree 247 of 300\n",
      "building tree 248 of 300\n",
      "building tree 249 of 300\n",
      "building tree 250 of 300\n",
      "building tree 251 of 300\n",
      "building tree 252 of 300\n",
      "building tree 253 of 300\n",
      "building tree 254 of 300\n",
      "building tree 255 of 300\n",
      "building tree 256 of 300\n",
      "building tree 257 of 300\n",
      "building tree 258 of 300\n",
      "building tree 259 of 300\n",
      "building tree 260 of 300\n",
      "building tree 261 of 300\n",
      "building tree 262 of 300\n",
      "building tree 263 of 300\n",
      "building tree 264 of 300\n",
      "building tree 265 of 300\n",
      "building tree 266 of 300\n",
      "building tree 267 of 300\n",
      "building tree 268 of 300\n",
      "building tree 269 of 300\n",
      "building tree 270 of 300\n",
      "building tree 271 of 300\n",
      "building tree 272 of 300\n",
      "building tree 273 of 300\n",
      "building tree 274 of 300\n",
      "building tree 275 of 300\n",
      "building tree 276 of 300\n",
      "building tree 277 of 300\n",
      "building tree 278 of 300\n",
      "building tree 279 of 300\n",
      "building tree 280 of 300\n",
      "building tree 281 of 300\n",
      "building tree 282 of 300\n",
      "building tree 283 of 300\n",
      "building tree 284 of 300\n",
      "building tree 285 of 300\n",
      "building tree 286 of 300\n",
      "building tree 287 of 300\n",
      "building tree 288 of 300\n",
      "building tree 289 of 300\n",
      "building tree 290 of 300\n",
      "building tree 291 of 300\n",
      "building tree 292 of 300\n",
      "building tree 293 of 300\n",
      "building tree 294 of 300\n",
      "building tree 295 of 300\n",
      "building tree 296 of 300\n",
      "building tree 297 of 300\n",
      "building tree 298 of 300\n",
      "building tree 299 of 300\n",
      "building tree 300 of 300\n"
     ]
    },
    {
     "name": "stderr",
     "output_type": "stream",
     "text": [
      "[Parallel(n_jobs=-1)]: Done 300 out of 300 | elapsed:   27.7s finished\n",
      "[Parallel(n_jobs=4)]: Using backend ThreadingBackend with 4 concurrent workers.\n",
      "[Parallel(n_jobs=4)]: Done  33 tasks      | elapsed:    0.1s\n",
      "[Parallel(n_jobs=4)]: Done 154 tasks      | elapsed:    0.6s\n",
      "[Parallel(n_jobs=4)]: Done 300 out of 300 | elapsed:    1.2s finished\n"
     ]
    }
   ],
   "source": [
    "rnd_clf1=RandomForestClassifier(n_estimators=300,verbose=2,n_jobs=-1,random_state=42,class_weight='balanced')\n",
    "rnd_clf1.fit(X_train_final,Y_train)\n",
    "y_pred1=rnd_clf1.predict(X_val_final)"
   ]
  },
  {
   "cell_type": "code",
   "execution_count": 48,
   "metadata": {},
   "outputs": [
    {
     "name": "stderr",
     "output_type": "stream",
     "text": [
      "[Parallel(n_jobs=4)]: Using backend ThreadingBackend with 4 concurrent workers.\n",
      "[Parallel(n_jobs=4)]: Done  33 tasks      | elapsed:    0.1s\n",
      "[Parallel(n_jobs=4)]: Done 154 tasks      | elapsed:    0.6s\n",
      "[Parallel(n_jobs=4)]: Done 300 out of 300 | elapsed:    1.2s finished\n"
     ]
    }
   ],
   "source": [
    "y_pred1=rnd_clf1.predict_proba(X_val_final)"
   ]
  },
  {
   "cell_type": "code",
   "execution_count": 49,
   "metadata": {},
   "outputs": [
    {
     "data": {
      "text/plain": [
       "array([0.16666667, 0.12333333, 0.09333333, ..., 0.69333333, 0.00333333,\n",
       "       0.03      ])"
      ]
     },
     "execution_count": 49,
     "metadata": {},
     "output_type": "execute_result"
    }
   ],
   "source": [
    "y_pred1[:,1]"
   ]
  },
  {
   "cell_type": "code",
   "execution_count": 50,
   "metadata": {},
   "outputs": [],
   "source": [
    "fpr,tpr,thresholds=roc_curve(Y_val,y_pred1[:,1])\n",
    "thresholds=thresholds[2:]"
   ]
  },
  {
   "cell_type": "code",
   "execution_count": 51,
   "metadata": {},
   "outputs": [],
   "source": [
    "def plot_roc_curve(fpr, tpr):\n",
    "    plt.plot(fpr, tpr, color='orange', label='ROC')\n",
    "    plt.plot([0, 1], [0, 1], color='darkblue', linestyle='--')\n",
    "    plt.xlabel('False Positive Rate')\n",
    "    plt.ylabel('True Positive Rate')\n",
    "    plt.title('Receiver Operating Characteristic (ROC) Curve')\n",
    "    plt.legend()\n",
    "    plt.show()"
   ]
  },
  {
   "cell_type": "code",
   "execution_count": 52,
   "metadata": {},
   "outputs": [
    {
     "data": {
      "image/png": "[encoded data removed]",
      "text/plain": [
       "<Figure size 432x288 with 1 Axes>"
      ]
     },
     "metadata": {
      "needs_background": "light"
     },
     "output_type": "display_data"
    },
    {
     "name": "stdout",
     "output_type": "stream",
     "text": [
      "AUC : 0.823489899594043\n"
     ]
    }
   ],
   "source": [
    "plot_roc_curve(fpr, tpr)\n",
    "print('AUC :',roc_auc_score(Y_val,y_pred1[:,1]))"
   ]
  },
  {
   "cell_type": "code",
   "execution_count": 53,
   "metadata": {},
   "outputs": [
    {
     "name": "stdout",
     "output_type": "stream",
     "text": [
      "Fitting 3 folds for each of 10 candidates, totalling 30 fits\n"
     ]
    },
    {
     "name": "stderr",
     "output_type": "stream",
     "text": [
      "[Parallel(n_jobs=-1)]: Using backend LokyBackend with 4 concurrent workers.\n",
      "[Parallel(n_jobs=-1)]: Done  30 out of  30 | elapsed:  5.6min finished\n"
     ]
    },
    {
     "name": "stdout",
     "output_type": "stream",
     "text": [
      "Best parameters : {'n_estimators': 600, 'max_depth': 10, 'class_weight': {0: 0.5236842105263158, 1: 0.47631578947368425}}\n"
     ]
    }
   ],
   "source": [
    "from sklearn.model_selection import RandomizedSearchCV\n",
    "n_est=np.linspace(100,1000,10,dtype=int)\n",
    "weights = np.linspace(0.05, 0.95, 20)\n",
    "max_depth=np.linspace(1,10,10,dtype=int)\n",
    "distributions={'class_weight': [{0: x, 1: 1.0-x} for x in weights],'n_estimators':n_est,'max_depth':max_depth}\n",
    "gsc = RandomizedSearchCV(estimator=RandomForestClassifier(max_features='log2'),param_distributions=distributions,scoring='accuracy',cv=3,verbose=3,n_jobs=-1,random_state=42)\n",
    "\n",
    "grid_result = gsc.fit(X_train_final, Y_train)\n",
    "print(\"Best parameters : %s\" % grid_result.best_params_)"
   ]
  },
  {
   "cell_type": "code",
   "execution_count": 54,
   "metadata": {},
   "outputs": [],
   "source": [
    "final_clf=RandomForestClassifier(n_estimators= 600,max_depth= 10,class_weight={0: 0.5236842105263158, 1: 0.47631578947368425},\n",
    "                                 max_features='log2',n_jobs=-1,verbose=2,random_state=42)"
   ]
  },
  {
   "cell_type": "code",
   "execution_count": 55,
   "metadata": {},
   "outputs": [
    {
     "name": "stderr",
     "output_type": "stream",
     "text": [
      "[Parallel(n_jobs=-1)]: Using backend ThreadingBackend with 4 concurrent workers.\n"
     ]
    },
    {
     "name": "stdout",
     "output_type": "stream",
     "text": [
      "building tree 1 of 600building tree 2 of 600\n",
      "\n",
      "building tree 3 of 600\n",
      "building tree 4 of 600\n",
      "building tree 5 of 600\n",
      "building tree 6 of 600\n",
      "building tree 7 of 600\n",
      "building tree 8 of 600\n",
      "building tree 9 of 600\n",
      "building tree 10 of 600\n",
      "building tree 11 of 600\n",
      "building tree 12 of 600\n",
      "building tree 13 of 600\n",
      "building tree 14 of 600\n",
      "building tree 15 of 600\n",
      "building tree 16 of 600\n",
      "building tree 17 of 600\n",
      "building tree 18 of 600\n",
      "building tree 19 of 600\n",
      "building tree 20 of 600\n",
      "building tree 21 of 600\n",
      "building tree 22 of 600\n",
      "building tree 23 of 600\n",
      "building tree 24 of 600\n",
      "building tree 25 of 600\n",
      "building tree 26 of 600\n",
      "building tree 27 of 600\n",
      "building tree 28 of 600\n",
      "building tree 29 of 600\n",
      "building tree 30 of 600\n",
      "building tree 31 of 600\n",
      "building tree 32 of 600\n",
      "building tree 33 of 600\n",
      "building tree 34 of 600\n",
      "building tree 35 of 600\n",
      "building tree 36 of 600\n",
      "building tree 37 of 600\n",
      "building tree 38 of 600\n",
      "building tree 39 of 600\n",
      "building tree 40 of 600\n"
     ]
    },
    {
     "name": "stderr",
     "output_type": "stream",
     "text": [
      "[Parallel(n_jobs=-1)]: Done  33 tasks      | elapsed:    1.8s\n"
     ]
    },
    {
     "name": "stdout",
     "output_type": "stream",
     "text": [
      "building tree 41 of 600\n",
      "building tree 42 of 600\n",
      "building tree 43 of 600\n",
      "building tree 44 of 600\n",
      "building tree 45 of 600\n",
      "building tree 46 of 600\n",
      "building tree 47 of 600\n",
      "building tree 48 of 600\n",
      "building tree 49 of 600\n",
      "building tree 50 of 600\n",
      "building tree 51 of 600\n",
      "building tree 52 of 600\n",
      "building tree 53 of 600\n",
      "building tree 54 of 600\n",
      "building tree 55 of 600\n",
      "building tree 56 of 600\n",
      "building tree 57 of 600\n",
      "building tree 58 of 600\n",
      "building tree 59 of 600\n",
      "building tree 60 of 600\n",
      "building tree 61 of 600\n",
      "building tree 62 of 600\n",
      "building tree 63 of 600\n",
      "building tree 64 of 600\n",
      "building tree 65 of 600\n",
      "building tree 66 of 600\n",
      "building tree 67 of 600\n",
      "building tree 68 of 600\n",
      "building tree 69 of 600\n",
      "building tree 70 of 600\n",
      "building tree 71 of 600\n",
      "building tree 72 of 600\n",
      "building tree 73 of 600\n",
      "building tree 74 of 600building tree 75 of 600\n",
      "\n",
      "building tree 76 of 600\n",
      "building tree 77 of 600\n",
      "building tree 78 of 600\n",
      "building tree 79 of 600\n",
      "building tree 80 of 600\n",
      "building tree 81 of 600\n",
      "building tree 82 of 600\n",
      "building tree 83 of 600\n",
      "building tree 84 of 600\n",
      "building tree 85 of 600\n",
      "building tree 86 of 600\n",
      "building tree 87 of 600\n",
      "building tree 88 of 600\n",
      "building tree 89 of 600\n",
      "building tree 90 of 600\n",
      "building tree 91 of 600\n",
      "building tree 92 of 600\n",
      "building tree 93 of 600\n",
      "building tree 94 of 600\n",
      "building tree 95 of 600\n",
      "building tree 96 of 600\n",
      "building tree 97 of 600\n",
      "building tree 98 of 600\n",
      "building tree 99 of 600\n",
      "building tree 100 of 600\n",
      "building tree 101 of 600\n",
      "building tree 102 of 600\n",
      "building tree 103 of 600\n",
      "building tree 104 of 600\n",
      "building tree 105 of 600\n",
      "building tree 106 of 600\n",
      "building tree 107 of 600\n",
      "building tree 108 of 600\n",
      "building tree 109 of 600\n",
      "building tree 110 of 600\n",
      "building tree 111 of 600\n",
      "building tree 112 of 600\n",
      "building tree 113 of 600\n",
      "building tree 114 of 600\n",
      "building tree 115 of 600\n",
      "building tree 116 of 600\n",
      "building tree 117 of 600\n",
      "building tree 118 of 600\n",
      "building tree 119 of 600\n",
      "building tree 120 of 600\n",
      "building tree 121 of 600\n",
      "building tree 122 of 600\n",
      "building tree 123 of 600\n",
      "building tree 124 of 600\n",
      "building tree 125 of 600\n",
      "building tree 126 of 600\n",
      "building tree 127 of 600\n",
      "building tree 128 of 600\n",
      "building tree 129 of 600\n",
      "building tree 130 of 600\n",
      "building tree 131 of 600\n",
      "building tree 132 of 600\n",
      "building tree 133 of 600\n",
      "building tree 134 of 600\n",
      "building tree 135 of 600\n",
      "building tree 136 of 600\n",
      "building tree 137 of 600\n",
      "building tree 138 of 600\n",
      "building tree 139 of 600\n",
      "building tree 140 of 600\n",
      "building tree 141 of 600\n",
      "building tree 142 of 600\n",
      "building tree 143 of 600\n",
      "building tree 144 of 600\n",
      "building tree 145 of 600\n",
      "building tree 146 of 600\n",
      "building tree 147 of 600\n",
      "building tree 148 of 600\n",
      "building tree 149 of 600\n",
      "building tree 150 of 600\n",
      "building tree 151 of 600\n",
      "building tree 152 of 600\n",
      "building tree 153 of 600\n",
      "building tree 154 of 600\n",
      "building tree 155 of 600\n",
      "building tree 156 of 600\n",
      "building tree 157 of 600\n",
      "building tree 158 of 600\n"
     ]
    },
    {
     "name": "stderr",
     "output_type": "stream",
     "text": [
      "[Parallel(n_jobs=-1)]: Done 154 tasks      | elapsed:    7.8s\n"
     ]
    },
    {
     "name": "stdout",
     "output_type": "stream",
     "text": [
      "building tree 159 of 600\n",
      "building tree 160 of 600\n",
      "building tree 161 of 600\n",
      "building tree 162 of 600\n",
      "building tree 163 of 600\n",
      "building tree 164 of 600\n",
      "building tree 165 of 600\n",
      "building tree 166 of 600\n",
      "building tree 167 of 600\n",
      "building tree 168 of 600\n",
      "building tree 169 of 600\n",
      "building tree 170 of 600\n",
      "building tree 171 of 600\n",
      "building tree 172 of 600\n",
      "building tree 173 of 600\n",
      "building tree 174 of 600\n",
      "building tree 175 of 600\n",
      "building tree 176 of 600\n",
      "building tree 177 of 600\n",
      "building tree 178 of 600\n",
      "building tree 179 of 600\n",
      "building tree 180 of 600\n",
      "building tree 181 of 600\n",
      "building tree 182 of 600\n",
      "building tree 183 of 600\n",
      "building tree 184 of 600\n",
      "building tree 185 of 600\n",
      "building tree 186 of 600\n",
      "building tree 187 of 600\n",
      "building tree 188 of 600\n",
      "building tree 189 of 600\n",
      "building tree 190 of 600\n",
      "building tree 191 of 600\n",
      "building tree 192 of 600\n",
      "building tree 193 of 600\n",
      "building tree 194 of 600\n",
      "building tree 195 of 600\n",
      "building tree 196 of 600\n",
      "building tree 197 of 600\n",
      "building tree 198 of 600\n",
      "building tree 199 of 600\n",
      "building tree 200 of 600\n",
      "building tree 201 of 600\n",
      "building tree 202 of 600\n",
      "building tree 203 of 600\n",
      "building tree 204 of 600\n",
      "building tree 205 of 600\n",
      "building tree 206 of 600\n",
      "building tree 207 of 600\n",
      "building tree 208 of 600\n",
      "building tree 209 of 600\n",
      "building tree 210 of 600\n",
      "building tree 211 of 600\n",
      "building tree 212 of 600\n",
      "building tree 213 of 600\n",
      "building tree 214 of 600\n",
      "building tree 215 of 600\n",
      "building tree 216 of 600\n",
      "building tree 217 of 600\n",
      "building tree 218 of 600\n",
      "building tree 219 of 600\n",
      "building tree 220 of 600\n",
      "building tree 221 of 600\n",
      "building tree 222 of 600\n",
      "building tree 223 of 600\n",
      "building tree 224 of 600\n",
      "building tree 225 of 600\n",
      "building tree 226 of 600\n",
      "building tree 227 of 600\n",
      "building tree 228 of 600\n",
      "building tree 229 of 600\n",
      "building tree 230 of 600\n",
      "building tree 231 of 600\n",
      "building tree 232 of 600\n",
      "building tree 233 of 600\n",
      "building tree 234 of 600\n",
      "building tree 235 of 600\n",
      "building tree 236 of 600\n",
      "building tree 237 of 600\n",
      "building tree 238 of 600\n",
      "building tree 239 of 600\n",
      "building tree 240 of 600\n",
      "building tree 241 of 600\n",
      "building tree 242 of 600\n",
      "building tree 243 of 600\n",
      "building tree 244 of 600\n",
      "building tree 245 of 600\n",
      "building tree 246 of 600\n",
      "building tree 247 of 600\n",
      "building tree 248 of 600\n",
      "building tree 249 of 600\n",
      "building tree 250 of 600\n",
      "building tree 251 of 600\n",
      "building tree 252 of 600\n",
      "building tree 253 of 600\n",
      "building tree 254 of 600\n",
      "building tree 255 of 600\n",
      "building tree 256 of 600\n",
      "building tree 257 of 600\n",
      "building tree 258 of 600\n",
      "building tree 259 of 600\n",
      "building tree 260 of 600\n",
      "building tree 261 of 600\n",
      "building tree 262 of 600\n",
      "building tree 263 of 600\n",
      "building tree 264 of 600\n",
      "building tree 265 of 600\n",
      "building tree 266 of 600\n",
      "building tree 267 of 600\n",
      "building tree 268 of 600\n",
      "building tree 269 of 600\n",
      "building tree 270 of 600\n",
      "building tree 271 of 600\n",
      "building tree 272 of 600\n",
      "building tree 273 of 600\n",
      "building tree 274 of 600\n",
      "building tree 275 of 600\n",
      "building tree 276 of 600\n",
      "building tree 277 of 600\n",
      "building tree 278 of 600\n",
      "building tree 279 of 600\n",
      "building tree 280 of 600\n",
      "building tree 281 of 600\n",
      "building tree 282 of 600\n",
      "building tree 283 of 600\n",
      "building tree 284 of 600\n",
      "building tree 285 of 600\n",
      "building tree 286 of 600\n",
      "building tree 287 of 600\n",
      "building tree 288 of 600\n",
      "building tree 289 of 600\n",
      "building tree 290 of 600\n",
      "building tree 291 of 600\n",
      "building tree 292 of 600\n",
      "building tree 293 of 600\n",
      "building tree 294 of 600\n",
      "building tree 295 of 600\n",
      "building tree 296 of 600\n",
      "building tree 297 of 600\n",
      "building tree 298 of 600\n",
      "building tree 299 of 600\n",
      "building tree 300 of 600\n",
      "building tree 301 of 600\n",
      "building tree 302 of 600\n",
      "building tree 303 of 600\n",
      "building tree 304 of 600\n",
      "building tree 305 of 600\n",
      "building tree 306 of 600\n",
      "building tree 307 of 600\n",
      "building tree 308 of 600\n",
      "building tree 309 of 600\n",
      "building tree 310 of 600\n",
      "building tree 311 of 600\n",
      "building tree 312 of 600\n",
      "building tree 313 of 600\n",
      "building tree 314 of 600\n",
      "building tree 315 of 600\n",
      "building tree 316 of 600\n",
      "building tree 317 of 600\n",
      "building tree 318 of 600\n",
      "building tree 319 of 600\n",
      "building tree 320 of 600\n",
      "building tree 321 of 600\n",
      "building tree 322 of 600\n",
      "building tree 323 of 600\n",
      "building tree 324 of 600building tree 325 of 600\n",
      "\n",
      "building tree 326 of 600\n",
      "building tree 327 of 600\n",
      "building tree 328 of 600\n",
      "building tree 329 of 600\n",
      "building tree 330 of 600\n",
      "building tree 331 of 600\n",
      "building tree 332 of 600\n",
      "building tree 333 of 600\n",
      "building tree 334 of 600\n",
      "building tree 335 of 600\n",
      "building tree 336 of 600\n",
      "building tree 337 of 600\n",
      "building tree 338 of 600\n",
      "building tree 339 of 600\n",
      "building tree 340 of 600\n",
      "building tree 341 of 600\n",
      "building tree 342 of 600\n",
      "building tree 343 of 600\n",
      "building tree 344 of 600\n",
      "building tree 345 of 600\n",
      "building tree 346 of 600\n",
      "building tree 347 of 600\n",
      "building tree 348 of 600\n",
      "building tree 349 of 600\n",
      "building tree 350 of 600\n",
      "building tree 351 of 600\n",
      "building tree 352 of 600\n",
      "building tree 353 of 600building tree 354 of 600\n",
      "\n",
      "building tree 355 of 600\n",
      "building tree 356 of 600\n",
      "building tree 357 of 600building tree 358 of 600\n",
      "\n",
      "building tree 359 of 600\n",
      "building tree 360 of 600\n",
      "building tree 361 of 600\n",
      "building tree 362 of 600\n",
      "building tree 363 of 600\n"
     ]
    },
    {
     "name": "stderr",
     "output_type": "stream",
     "text": [
      "[Parallel(n_jobs=-1)]: Done 357 tasks      | elapsed:   18.3s\n"
     ]
    },
    {
     "name": "stdout",
     "output_type": "stream",
     "text": [
      "building tree 364 of 600\n",
      "building tree 365 of 600\n",
      "building tree 366 of 600\n",
      "building tree 367 of 600\n",
      "building tree 368 of 600\n",
      "building tree 369 of 600\n",
      "building tree 370 of 600\n",
      "building tree 371 of 600\n",
      "building tree 372 of 600building tree 373 of 600\n",
      "\n",
      "building tree 374 of 600\n",
      "building tree 375 of 600\n",
      "building tree 376 of 600\n",
      "building tree 377 of 600\n",
      "building tree 378 of 600\n",
      "building tree 379 of 600\n",
      "building tree 380 of 600\n",
      "building tree 381 of 600\n",
      "building tree 382 of 600\n",
      "building tree 383 of 600\n",
      "building tree 384 of 600\n",
      "building tree 385 of 600\n",
      "building tree 386 of 600\n",
      "building tree 387 of 600\n",
      "building tree 388 of 600\n",
      "building tree 389 of 600\n",
      "building tree 390 of 600\n",
      "building tree 391 of 600\n",
      "building tree 392 of 600\n",
      "building tree 393 of 600\n",
      "building tree 394 of 600\n",
      "building tree 395 of 600\n",
      "building tree 396 of 600\n",
      "building tree 397 of 600\n",
      "building tree 398 of 600\n",
      "building tree 399 of 600\n",
      "building tree 400 of 600\n",
      "building tree 401 of 600\n",
      "building tree 402 of 600\n",
      "building tree 403 of 600\n",
      "building tree 404 of 600\n",
      "building tree 405 of 600\n",
      "building tree 406 of 600\n",
      "building tree 407 of 600\n",
      "building tree 408 of 600\n",
      "building tree 409 of 600\n",
      "building tree 410 of 600\n",
      "building tree 411 of 600\n",
      "building tree 412 of 600\n",
      "building tree 413 of 600\n",
      "building tree 414 of 600\n",
      "building tree 415 of 600\n",
      "building tree 416 of 600\n",
      "building tree 417 of 600\n",
      "building tree 418 of 600\n",
      "building tree 419 of 600\n",
      "building tree 420 of 600\n",
      "building tree 421 of 600\n",
      "building tree 422 of 600\n",
      "building tree 423 of 600\n",
      "building tree 424 of 600\n",
      "building tree 425 of 600\n",
      "building tree 426 of 600\n",
      "building tree 427 of 600\n",
      "building tree 428 of 600\n",
      "building tree 429 of 600\n",
      "building tree 430 of 600\n",
      "building tree 431 of 600\n",
      "building tree 432 of 600\n",
      "building tree 433 of 600\n",
      "building tree 434 of 600\n",
      "building tree 435 of 600\n",
      "building tree 436 of 600\n",
      "building tree 437 of 600\n",
      "building tree 438 of 600\n",
      "building tree 439 of 600\n",
      "building tree 440 of 600\n",
      "building tree 441 of 600\n",
      "building tree 442 of 600\n",
      "building tree 443 of 600\n",
      "building tree 444 of 600\n",
      "building tree 445 of 600building tree 446 of 600\n",
      "\n",
      "building tree 447 of 600\n",
      "building tree 448 of 600\n",
      "building tree 449 of 600\n",
      "building tree 450 of 600\n",
      "building tree 451 of 600\n",
      "building tree 452 of 600\n",
      "building tree 453 of 600\n",
      "building tree 454 of 600\n",
      "building tree 455 of 600\n",
      "building tree 456 of 600\n",
      "building tree 457 of 600\n",
      "building tree 458 of 600\n",
      "building tree 459 of 600\n",
      "building tree 460 of 600\n",
      "building tree 461 of 600\n",
      "building tree 462 of 600\n",
      "building tree 463 of 600\n",
      "building tree 464 of 600\n",
      "building tree 465 of 600\n",
      "building tree 466 of 600\n",
      "building tree 467 of 600\n",
      "building tree 468 of 600\n",
      "building tree 469 of 600\n",
      "building tree 470 of 600\n",
      "building tree 471 of 600\n",
      "building tree 472 of 600\n",
      "building tree 473 of 600\n",
      "building tree 474 of 600\n",
      "building tree 475 of 600\n",
      "building tree 476 of 600\n",
      "building tree 477 of 600\n",
      "building tree 478 of 600\n",
      "building tree 479 of 600\n",
      "building tree 480 of 600\n",
      "building tree 481 of 600\n",
      "building tree 482 of 600\n",
      "building tree 483 of 600\n",
      "building tree 484 of 600\n",
      "building tree 485 of 600\n",
      "building tree 486 of 600\n",
      "building tree 487 of 600\n",
      "building tree 488 of 600\n",
      "building tree 489 of 600\n",
      "building tree 490 of 600\n",
      "building tree 491 of 600\n",
      "building tree 492 of 600\n",
      "building tree 493 of 600\n",
      "building tree 494 of 600\n",
      "building tree 495 of 600\n",
      "building tree 496 of 600\n",
      "building tree 497 of 600\n",
      "building tree 498 of 600\n",
      "building tree 499 of 600\n",
      "building tree 500 of 600\n",
      "building tree 501 of 600\n",
      "building tree 502 of 600\n",
      "building tree 503 of 600\n",
      "building tree 504 of 600\n",
      "building tree 505 of 600\n",
      "building tree 506 of 600\n",
      "building tree 507 of 600\n",
      "building tree 508 of 600\n",
      "building tree 509 of 600\n",
      "building tree 510 of 600\n",
      "building tree 511 of 600\n",
      "building tree 512 of 600\n",
      "building tree 513 of 600\n",
      "building tree 514 of 600\n",
      "building tree 515 of 600\n",
      "building tree 516 of 600\n",
      "building tree 517 of 600\n",
      "building tree 518 of 600\n",
      "building tree 519 of 600\n",
      "building tree 520 of 600\n",
      "building tree 521 of 600\n",
      "building tree 522 of 600\n",
      "building tree 523 of 600\n",
      "building tree 524 of 600\n",
      "building tree 525 of 600\n",
      "building tree 526 of 600\n",
      "building tree 527 of 600\n",
      "building tree 528 of 600\n",
      "building tree 529 of 600\n",
      "building tree 530 of 600\n",
      "building tree 531 of 600\n",
      "building tree 532 of 600\n",
      "building tree 533 of 600\n",
      "building tree 534 of 600\n",
      "building tree 535 of 600\n",
      "building tree 536 of 600\n",
      "building tree 537 of 600\n",
      "building tree 538 of 600\n",
      "building tree 539 of 600\n",
      "building tree 540 of 600\n",
      "building tree 541 of 600\n",
      "building tree 542 of 600\n",
      "building tree 543 of 600\n",
      "building tree 544 of 600\n",
      "building tree 545 of 600\n",
      "building tree 546 of 600\n",
      "building tree 547 of 600\n",
      "building tree 548 of 600\n",
      "building tree 549 of 600building tree 550 of 600\n",
      "\n",
      "building tree 551 of 600\n",
      "building tree 552 of 600\n",
      "building tree 553 of 600\n",
      "building tree 554 of 600\n",
      "building tree 555 of 600\n",
      "building tree 556 of 600\n",
      "building tree 557 of 600\n",
      "building tree 558 of 600\n",
      "building tree 559 of 600\n",
      "building tree 560 of 600\n",
      "building tree 561 of 600\n",
      "building tree 562 of 600\n",
      "building tree 563 of 600\n",
      "building tree 564 of 600\n",
      "building tree 565 of 600\n",
      "building tree 566 of 600\n",
      "building tree 567 of 600\n",
      "building tree 568 of 600\n",
      "building tree 569 of 600\n",
      "building tree 570 of 600\n",
      "building tree 571 of 600\n",
      "building tree 572 of 600\n",
      "building tree 573 of 600\n",
      "building tree 574 of 600\n",
      "building tree 575 of 600\n",
      "building tree 576 of 600\n",
      "building tree 577 of 600\n",
      "building tree 578 of 600\n",
      "building tree 579 of 600\n",
      "building tree 580 of 600\n",
      "building tree 581 of 600\n",
      "building tree 582 of 600\n",
      "building tree 583 of 600\n",
      "building tree 584 of 600\n",
      "building tree 585 of 600\n",
      "building tree 586 of 600\n",
      "building tree 587 of 600\n",
      "building tree 588 of 600\n",
      "building tree 589 of 600\n",
      "building tree 590 of 600\n",
      "building tree 591 of 600\n",
      "building tree 592 of 600\n",
      "building tree 593 of 600\n",
      "building tree 594 of 600\n",
      "building tree 595 of 600\n",
      "building tree 596 of 600\n",
      "building tree 597 of 600\n",
      "building tree 598 of 600\n",
      "building tree 599 of 600\n",
      "building tree 600 of 600\n"
     ]
    },
    {
     "name": "stderr",
     "output_type": "stream",
     "text": [
      "[Parallel(n_jobs=-1)]: Done 600 out of 600 | elapsed:   31.1s finished\n"
     ]
    },
    {
     "data": {
      "text/plain": [
       "RandomForestClassifier(class_weight={0: 0.5236842105263158,\n",
       "                                     1: 0.47631578947368425},\n",
       "                       max_depth=10, max_features='log2', n_estimators=600,\n",
       "                       n_jobs=-1, random_state=42, verbose=2)"
      ]
     },
     "execution_count": 55,
     "metadata": {},
     "output_type": "execute_result"
    }
   ],
   "source": [
    "final_clf.fit(X_train_final, Y_train)"
   ]
  },
  {
   "cell_type": "code",
   "execution_count": 56,
   "metadata": {},
   "outputs": [
    {
     "name": "stderr",
     "output_type": "stream",
     "text": [
      "[Parallel(n_jobs=4)]: Using backend ThreadingBackend with 4 concurrent workers.\n",
      "[Parallel(n_jobs=4)]: Done  33 tasks      | elapsed:    0.1s\n",
      "[Parallel(n_jobs=4)]: Done 154 tasks      | elapsed:    0.3s\n",
      "[Parallel(n_jobs=4)]: Done 357 tasks      | elapsed:    0.7s\n",
      "[Parallel(n_jobs=4)]: Done 600 out of 600 | elapsed:    1.1s finished\n"
     ]
    }
   ],
   "source": [
    "y_pred_final=final_clf.predict_proba(X_val_final)"
   ]
  },
  {
   "cell_type": "code",
   "execution_count": 57,
   "metadata": {},
   "outputs": [],
   "source": [
    "fpr,tpr,thresholds=roc_curve(Y_val,y_pred_final[:,1])\n",
    "thresholds=thresholds[2:]"
   ]
  },
  {
   "cell_type": "code",
   "execution_count": 58,
   "metadata": {},
   "outputs": [
    {
     "data": {
      "image/png": "[encoded data removed]",
      "text/plain": [
       "<Figure size 432x288 with 1 Axes>"
      ]
     },
     "metadata": {
      "needs_background": "light"
     },
     "output_type": "display_data"
    },
    {
     "name": "stdout",
     "output_type": "stream",
     "text": [
      "AUC : 0.8303783704786601\n"
     ]
    }
   ],
   "source": [
    "plot_roc_curve(fpr, tpr)\n",
    "print('AUC :',roc_auc_score(Y_val,y_pred_final[:,1]))"
   ]
  },
  {
   "cell_type": "code",
   "execution_count": 59,
   "metadata": {},
   "outputs": [
    {
     "name": "stdout",
     "output_type": "stream",
     "text": [
      "Fitting 3 folds for each of 10 candidates, totalling 30 fits\n"
     ]
    },
    {
     "name": "stderr",
     "output_type": "stream",
     "text": [
      "[Parallel(n_jobs=-1)]: Using backend LokyBackend with 4 concurrent workers.\n",
      "[Parallel(n_jobs=-1)]: Done  30 out of  30 | elapsed:  5.5min finished\n"
     ]
    },
    {
     "name": "stdout",
     "output_type": "stream",
     "text": [
      "Best parameters : {'n_estimators': 300, 'max_depth': 3}\n"
     ]
    }
   ],
   "source": [
    "from sklearn.model_selection import RandomizedSearchCV\n",
    "\n",
    "n_est=np.linspace(100,1000,10,dtype=int)\n",
    "weights = np.linspace(0.05, 0.95, 20)\n",
    "max_depth=np.linspace(1,10,10,dtype=int)\n",
    "distributions={'n_estimators':n_est,'max_depth':max_depth}\n",
    "gbsc = RandomizedSearchCV(estimator=GradientBoostingClassifier(max_features='log2'),param_distributions=distributions,scoring='accuracy',cv=3,verbose=3,n_jobs=-1,random_state=42)\n",
    "\n",
    "grid_result = gbsc.fit(X_train_final, Y_train)\n",
    "print(\"Best parameters : %s\" % grid_result.best_params_)"
   ]
  },
  {
   "cell_type": "code",
   "execution_count": 60,
   "metadata": {},
   "outputs": [
    {
     "name": "stdout",
     "output_type": "stream",
     "text": [
      "      Iter       Train Loss   Remaining Time \n",
      "         1           1.0131           19.73s\n",
      "         2           0.9876           19.77s\n",
      "         3           0.9648           20.18s\n",
      "         4           0.9473           20.75s\n",
      "         5           0.9331           20.10s\n",
      "         6           0.9204           19.95s\n",
      "         7           0.9128           20.31s\n",
      "         8           0.9029           20.14s\n",
      "         9           0.8952           19.99s\n",
      "        10           0.8904           19.88s\n",
      "        11           0.8852           19.72s\n",
      "        12           0.8796           19.66s\n",
      "        13           0.8752           19.54s\n",
      "        14           0.8707           19.63s\n",
      "        15           0.8662           19.73s\n",
      "        16           0.8622           19.87s\n",
      "        17           0.8590           19.67s\n",
      "        18           0.8551           19.75s\n",
      "        19           0.8520           19.67s\n",
      "        20           0.8491           19.68s\n",
      "        21           0.8465           19.56s\n",
      "        22           0.8443           19.47s\n",
      "        23           0.8422           19.34s\n",
      "        24           0.8409           19.25s\n",
      "        25           0.8392           19.16s\n",
      "        26           0.8370           19.09s\n",
      "        27           0.8351           19.12s\n",
      "        28           0.8334           19.17s\n",
      "        29           0.8317           19.05s\n",
      "        30           0.8302           19.14s\n",
      "        31           0.8288           19.08s\n",
      "        32           0.8276           18.99s\n",
      "        33           0.8263           18.88s\n",
      "        34           0.8255           18.79s\n",
      "        35           0.8244           18.72s\n",
      "        36           0.8234           18.64s\n",
      "        37           0.8225           18.65s\n",
      "        38           0.8216           18.51s\n",
      "        39           0.8211           18.41s\n",
      "        40           0.8202           18.30s\n",
      "        41           0.8196           18.27s\n",
      "        42           0.8190           18.15s\n",
      "        43           0.8182           18.06s\n",
      "        44           0.8177           18.00s\n",
      "        45           0.8171           17.94s\n",
      "        46           0.8165           17.89s\n",
      "        47           0.8160           17.82s\n",
      "        48           0.8156           17.82s\n",
      "        49           0.8150           17.74s\n",
      "        50           0.8143           17.72s\n",
      "        51           0.8137           17.67s\n",
      "        52           0.8130           17.58s\n",
      "        53           0.8125           17.51s\n",
      "        54           0.8122           17.41s\n",
      "        55           0.8119           17.32s\n",
      "        56           0.8114           17.20s\n",
      "        57           0.8111           17.14s\n",
      "        58           0.8107           17.09s\n",
      "        59           0.8103           17.02s\n",
      "        60           0.8099           16.95s\n",
      "        61           0.8097           16.86s\n",
      "        62           0.8092           16.80s\n",
      "        63           0.8089           16.74s\n",
      "        64           0.8085           16.66s\n",
      "        65           0.8082           16.60s\n",
      "        66           0.8080           16.53s\n",
      "        67           0.8077           16.46s\n",
      "        68           0.8075           16.42s\n",
      "        69           0.8072           16.34s\n",
      "        70           0.8070           16.28s\n",
      "        71           0.8068           16.25s\n",
      "        72           0.8066           16.15s\n",
      "        73           0.8063           16.07s\n",
      "        74           0.8061           16.06s\n",
      "        75           0.8057           16.00s\n",
      "        76           0.8056           15.92s\n",
      "        77           0.8054           15.88s\n",
      "        78           0.8051           15.81s\n",
      "        79           0.8050           15.73s\n",
      "        80           0.8047           15.65s\n",
      "        81           0.8046           15.60s\n",
      "        82           0.8043           15.54s\n",
      "        83           0.8038           15.48s\n",
      "        84           0.8037           15.37s\n",
      "        85           0.8035           15.30s\n",
      "        86           0.8033           15.24s\n",
      "        87           0.8032           15.17s\n",
      "        88           0.8030           15.08s\n",
      "        89           0.8028           14.99s\n",
      "        90           0.8027           14.89s\n",
      "        91           0.8026           14.83s\n",
      "        92           0.8024           14.74s\n",
      "        93           0.8023           14.66s\n",
      "        94           0.8022           14.59s\n",
      "        95           0.8021           14.51s\n",
      "        96           0.8020           14.42s\n",
      "        97           0.8019           14.34s\n",
      "        98           0.8017           14.28s\n",
      "        99           0.8016           14.19s\n",
      "       100           0.8015           14.15s\n",
      "       101           0.8014           14.07s\n",
      "       102           0.8012           14.01s\n",
      "       103           0.8010           13.94s\n",
      "       104           0.8008           13.88s\n",
      "       105           0.8007           13.79s\n",
      "       106           0.8005           13.72s\n",
      "       107           0.8003           13.64s\n",
      "       108           0.7999           13.57s\n",
      "       109           0.7998           13.50s\n",
      "       110           0.7997           13.45s\n",
      "       111           0.7994           13.37s\n",
      "       112           0.7992           13.29s\n",
      "       113           0.7991           13.21s\n",
      "       114           0.7990           13.14s\n",
      "       115           0.7989           13.09s\n",
      "       116           0.7988           13.00s\n",
      "       117           0.7987           12.93s\n",
      "       118           0.7986           12.86s\n",
      "       119           0.7985           12.77s\n",
      "       120           0.7984           12.71s\n",
      "       121           0.7982           12.66s\n",
      "       122           0.7979           12.59s\n",
      "       123           0.7978           12.52s\n",
      "       124           0.7977           12.45s\n",
      "       125           0.7976           12.38s\n",
      "       126           0.7975           12.30s\n",
      "       127           0.7973           12.22s\n",
      "       128           0.7972           12.14s\n",
      "       129           0.7971           12.07s\n",
      "       130           0.7970           11.99s\n",
      "       131           0.7968           11.93s\n",
      "       132           0.7966           11.85s\n",
      "       133           0.7965           11.78s\n",
      "       134           0.7965           11.71s\n",
      "       135           0.7963           11.64s\n",
      "       136           0.7962           11.58s\n",
      "       137           0.7961           11.52s\n",
      "       138           0.7961           11.43s\n",
      "       139           0.7960           11.38s\n",
      "       140           0.7959           11.32s\n",
      "       141           0.7957           11.26s\n",
      "       142           0.7956           11.19s\n",
      "       143           0.7955           11.13s\n",
      "       144           0.7954           11.05s\n",
      "       145           0.7954           10.98s\n",
      "       146           0.7953           10.91s\n",
      "       147           0.7951           10.84s\n",
      "       148           0.7950           10.78s\n",
      "       149           0.7949           10.72s\n",
      "       150           0.7949           10.64s\n",
      "       151           0.7948           10.57s\n",
      "       152           0.7947           10.50s\n",
      "       153           0.7945           10.46s\n",
      "       154           0.7943           10.39s\n",
      "       155           0.7942           10.31s\n",
      "       156           0.7941           10.23s\n",
      "       157           0.7940           10.16s\n",
      "       158           0.7939           10.08s\n",
      "       159           0.7937           10.02s\n",
      "       160           0.7937            9.95s\n",
      "       161           0.7935            9.87s\n",
      "       162           0.7934            9.80s\n",
      "       163           0.7934            9.73s\n",
      "       164           0.7932            9.66s\n",
      "       165           0.7930            9.59s\n",
      "       166           0.7929            9.52s\n",
      "       167           0.7927            9.44s\n",
      "       168           0.7926            9.37s\n",
      "       169           0.7925            9.30s\n",
      "       170           0.7924            9.23s\n",
      "       171           0.7923            9.16s\n",
      "       172           0.7923            9.09s\n",
      "       173           0.7922            9.02s\n",
      "       174           0.7921            8.95s\n",
      "       175           0.7920            8.89s\n",
      "       176           0.7918            8.82s\n",
      "       177           0.7918            8.75s\n",
      "       178           0.7917            8.68s\n",
      "       179           0.7916            8.60s\n",
      "       180           0.7915            8.53s\n",
      "       181           0.7915            8.44s\n",
      "       182           0.7914            8.37s\n"
     ]
    },
    {
     "name": "stdout",
     "output_type": "stream",
     "text": [
      "       183           0.7913            8.30s\n",
      "       184           0.7912            8.22s\n",
      "       185           0.7911            8.14s\n",
      "       186           0.7910            8.07s\n",
      "       187           0.7910            8.00s\n",
      "       188           0.7909            7.93s\n",
      "       189           0.7908            7.86s\n",
      "       190           0.7906            7.79s\n",
      "       191           0.7905            7.72s\n",
      "       192           0.7904            7.65s\n",
      "       193           0.7903            7.58s\n",
      "       194           0.7903            7.51s\n",
      "       195           0.7902            7.44s\n",
      "       196           0.7901            7.36s\n",
      "       197           0.7900            7.29s\n",
      "       198           0.7899            7.23s\n",
      "       199           0.7898            7.16s\n",
      "       200           0.7897            7.08s\n",
      "       201           0.7896            7.02s\n",
      "       202           0.7896            6.94s\n",
      "       203           0.7895            6.87s\n",
      "       204           0.7895            6.80s\n",
      "       205           0.7893            6.73s\n",
      "       206           0.7892            6.66s\n",
      "       207           0.7890            6.58s\n",
      "       208           0.7889            6.51s\n",
      "       209           0.7889            6.45s\n",
      "       210           0.7888            6.38s\n",
      "       211           0.7886            6.31s\n",
      "       212           0.7885            6.23s\n",
      "       213           0.7885            6.16s\n",
      "       214           0.7884            6.09s\n",
      "       215           0.7883            6.02s\n",
      "       216           0.7882            5.95s\n",
      "       217           0.7881            5.89s\n",
      "       218           0.7881            5.81s\n",
      "       219           0.7880            5.74s\n",
      "       220           0.7880            5.67s\n",
      "       221           0.7879            5.60s\n",
      "       222           0.7879            5.53s\n",
      "       223           0.7878            5.45s\n",
      "       224           0.7877            5.38s\n",
      "       225           0.7877            5.30s\n",
      "       226           0.7875            5.23s\n",
      "       227           0.7875            5.16s\n",
      "       228           0.7874            5.09s\n",
      "       229           0.7873            5.02s\n",
      "       230           0.7872            4.95s\n",
      "       231           0.7871            4.88s\n",
      "       232           0.7871            4.81s\n",
      "       233           0.7870            4.74s\n",
      "       234           0.7869            4.67s\n",
      "       235           0.7868            4.59s\n",
      "       236           0.7867            4.53s\n",
      "       237           0.7867            4.46s\n",
      "       238           0.7866            4.38s\n",
      "       239           0.7865            4.31s\n",
      "       240           0.7864            4.24s\n",
      "       241           0.7863            4.17s\n",
      "       242           0.7863            4.10s\n",
      "       243           0.7862            4.03s\n",
      "       244           0.7861            3.96s\n",
      "       245           0.7861            3.88s\n",
      "       246           0.7860            3.81s\n",
      "       247           0.7860            3.74s\n",
      "       248           0.7859            3.67s\n",
      "       249           0.7858            3.60s\n",
      "       250           0.7858            3.53s\n",
      "       251           0.7857            3.46s\n",
      "       252           0.7856            3.39s\n",
      "       253           0.7856            3.32s\n",
      "       254           0.7855            3.25s\n",
      "       255           0.7854            3.17s\n",
      "       256           0.7853            3.10s\n",
      "       257           0.7853            3.03s\n",
      "       258           0.7852            2.96s\n",
      "       259           0.7851            2.89s\n",
      "       260           0.7850            2.82s\n",
      "       261           0.7849            2.75s\n",
      "       262           0.7849            2.68s\n",
      "       263           0.7848            2.61s\n",
      "       264           0.7848            2.54s\n",
      "       265           0.7847            2.47s\n",
      "       266           0.7846            2.40s\n",
      "       267           0.7846            2.33s\n",
      "       268           0.7845            2.26s\n",
      "       269           0.7844            2.19s\n",
      "       270           0.7844            2.12s\n",
      "       271           0.7843            2.05s\n",
      "       272           0.7842            1.98s\n",
      "       273           0.7842            1.91s\n",
      "       274           0.7841            1.83s\n",
      "       275           0.7841            1.76s\n",
      "       276           0.7840            1.69s\n",
      "       277           0.7840            1.62s\n",
      "       278           0.7838            1.55s\n",
      "       279           0.7838            1.48s\n",
      "       280           0.7836            1.41s\n",
      "       281           0.7836            1.34s\n",
      "       282           0.7835            1.27s\n",
      "       283           0.7834            1.20s\n",
      "       284           0.7834            1.13s\n",
      "       285           0.7833            1.06s\n",
      "       286           0.7832            0.99s\n",
      "       287           0.7831            0.92s\n",
      "       288           0.7830            0.85s\n",
      "       289           0.7829            0.78s\n",
      "       290           0.7828            0.71s\n",
      "       291           0.7828            0.64s\n",
      "       292           0.7827            0.56s\n",
      "       293           0.7827            0.49s\n",
      "       294           0.7826            0.42s\n",
      "       295           0.7825            0.35s\n",
      "       296           0.7825            0.28s\n",
      "       297           0.7824            0.21s\n",
      "       298           0.7824            0.14s\n",
      "       299           0.7824            0.07s\n",
      "       300           0.7823            0.00s\n"
     ]
    },
    {
     "data": {
      "text/plain": [
       "GradientBoostingClassifier(max_features='log2', n_estimators=300,\n",
       "                           random_state=42, verbose=2)"
      ]
     },
     "execution_count": 60,
     "metadata": {},
     "output_type": "execute_result"
    }
   ],
   "source": [
    "final_clf2=GradientBoostingClassifier(n_estimators= 300,max_depth= 3,\n",
    "                                 max_features='log2',verbose=2,random_state=42)\n",
    "final_clf2.fit(X_train_final, Y_train)"
   ]
  },
  {
   "cell_type": "code",
   "execution_count": 61,
   "metadata": {},
   "outputs": [],
   "source": [
    "y_pred_final2=final_clf2.predict_proba(X_val_final)"
   ]
  },
  {
   "cell_type": "code",
   "execution_count": 62,
   "metadata": {},
   "outputs": [],
   "source": [
    "fpr,tpr,thresholds=roc_curve(Y_val,y_pred_final2[:,1])\n",
    "thresholds=thresholds[2:]"
   ]
  },
  {
   "cell_type": "code",
   "execution_count": 63,
   "metadata": {},
   "outputs": [
    {
     "data": {
      "image/png": "[encoded data removed]",
      "text/plain": [
       "<Figure size 432x288 with 1 Axes>"
      ]
     },
     "metadata": {
      "needs_background": "light"
     },
     "output_type": "display_data"
    },
    {
     "name": "stdout",
     "output_type": "stream",
     "text": [
      "AUC : 0.8354282087723747\n"
     ]
    }
   ],
   "source": [
    "plot_roc_curve(fpr, tpr)\n",
    "print('AUC :',roc_auc_score(Y_val,y_pred_final2[:,1]))"
   ]
  },
  {
   "cell_type": "code",
   "execution_count": 64,
   "metadata": {},
   "outputs": [],
   "source": [
    "classification_prob=pd.DataFrame(y_pred_final[:,1])"
   ]
  },
  {
   "cell_type": "code",
   "execution_count": 65,
   "metadata": {},
   "outputs": [],
   "source": [
    "classification_prob['GB Classifier']=y_pred_final2[:,1]"
   ]
  },
  {
   "cell_type": "code",
   "execution_count": 66,
   "metadata": {},
   "outputs": [],
   "source": [
    "classification_prob.columns=['RF Classifier','GB Classifier']"
   ]
  },
  {
   "cell_type": "code",
   "execution_count": 67,
   "metadata": {},
   "outputs": [],
   "source": [
    "classification_prob['Overall_Avg']=(classification_prob['GB Classifier']+classification_prob['RF Classifier'])/2"
   ]
  },
  {
   "cell_type": "code",
   "execution_count": 68,
   "metadata": {},
   "outputs": [
    {
     "data": {
      "text/html": [
       "<div>\n",
       "<style scoped>\n",
       "    .dataframe tbody tr th:only-of-type {\n",
       "        vertical-align: middle;\n",
       "    }\n",
       "\n",
       "    .dataframe tbody tr th {\n",
       "        vertical-align: top;\n",
       "    }\n",
       "\n",
       "    .dataframe thead th {\n",
       "        text-align: right;\n",
       "    }\n",
       "</style>\n",
       "<table border=\"1\" class=\"dataframe\">\n",
       "  <thead>\n",
       "    <tr style=\"text-align: right;\">\n",
       "      <th></th>\n",
       "      <th>RF Classifier</th>\n",
       "      <th>GB Classifier</th>\n",
       "      <th>Overall_Avg</th>\n",
       "    </tr>\n",
       "  </thead>\n",
       "  <tbody>\n",
       "    <tr>\n",
       "      <th>0</th>\n",
       "      <td>0.127913</td>\n",
       "      <td>0.123746</td>\n",
       "      <td>0.125830</td>\n",
       "    </tr>\n",
       "    <tr>\n",
       "      <th>1</th>\n",
       "      <td>0.091057</td>\n",
       "      <td>0.103100</td>\n",
       "      <td>0.097078</td>\n",
       "    </tr>\n",
       "    <tr>\n",
       "      <th>2</th>\n",
       "      <td>0.074225</td>\n",
       "      <td>0.112058</td>\n",
       "      <td>0.093141</td>\n",
       "    </tr>\n",
       "    <tr>\n",
       "      <th>3</th>\n",
       "      <td>0.081123</td>\n",
       "      <td>0.078017</td>\n",
       "      <td>0.079570</td>\n",
       "    </tr>\n",
       "    <tr>\n",
       "      <th>4</th>\n",
       "      <td>0.127201</td>\n",
       "      <td>0.147390</td>\n",
       "      <td>0.137295</td>\n",
       "    </tr>\n",
       "    <tr>\n",
       "      <th>...</th>\n",
       "      <td>...</td>\n",
       "      <td>...</td>\n",
       "      <td>...</td>\n",
       "    </tr>\n",
       "    <tr>\n",
       "      <th>39043</th>\n",
       "      <td>0.110591</td>\n",
       "      <td>0.163815</td>\n",
       "      <td>0.137203</td>\n",
       "    </tr>\n",
       "    <tr>\n",
       "      <th>39044</th>\n",
       "      <td>0.518836</td>\n",
       "      <td>0.595806</td>\n",
       "      <td>0.557321</td>\n",
       "    </tr>\n",
       "    <tr>\n",
       "      <th>39045</th>\n",
       "      <td>0.449047</td>\n",
       "      <td>0.523588</td>\n",
       "      <td>0.486317</td>\n",
       "    </tr>\n",
       "    <tr>\n",
       "      <th>39046</th>\n",
       "      <td>0.010761</td>\n",
       "      <td>0.008508</td>\n",
       "      <td>0.009635</td>\n",
       "    </tr>\n",
       "    <tr>\n",
       "      <th>39047</th>\n",
       "      <td>0.050341</td>\n",
       "      <td>0.048630</td>\n",
       "      <td>0.049485</td>\n",
       "    </tr>\n",
       "  </tbody>\n",
       "</table>\n",
       "<p>39048 rows × 3 columns</p>\n",
       "</div>"
      ],
      "text/plain": [
       "       RF Classifier  GB Classifier  Overall_Avg\n",
       "0           0.127913       0.123746     0.125830\n",
       "1           0.091057       0.103100     0.097078\n",
       "2           0.074225       0.112058     0.093141\n",
       "3           0.081123       0.078017     0.079570\n",
       "4           0.127201       0.147390     0.137295\n",
       "...              ...            ...          ...\n",
       "39043       0.110591       0.163815     0.137203\n",
       "39044       0.518836       0.595806     0.557321\n",
       "39045       0.449047       0.523588     0.486317\n",
       "39046       0.010761       0.008508     0.009635\n",
       "39047       0.050341       0.048630     0.049485\n",
       "\n",
       "[39048 rows x 3 columns]"
      ]
     },
     "execution_count": 68,
     "metadata": {},
     "output_type": "execute_result"
    }
   ],
   "source": [
    "classification_prob"
   ]
  },
  {
   "cell_type": "code",
   "execution_count": 69,
   "metadata": {},
   "outputs": [
    {
     "data": {
      "image/png": "[encoded data removed]",
      "text/plain": [
       "<Figure size 432x288 with 1 Axes>"
      ]
     },
     "metadata": {
      "needs_background": "light"
     },
     "output_type": "display_data"
    },
    {
     "name": "stdout",
     "output_type": "stream",
     "text": [
      "AUC : 0.8344363588883377\n"
     ]
    }
   ],
   "source": [
    "plot_roc_curve(fpr, tpr)\n",
    "print('AUC :',roc_auc_score(Y_val,classification_prob['Overall_Avg']))"
   ]
  },
  {
   "cell_type": "code",
   "execution_count": 70,
   "metadata": {},
   "outputs": [],
   "source": [
    "from sklearn.ensemble import AdaBoostClassifier"
   ]
  },
  {
   "cell_type": "code",
   "execution_count": 71,
   "metadata": {},
   "outputs": [],
   "source": [
    "third_clf=AdaBoostClassifier(n_estimators=100,learning_rate=0.8,random_state=42)"
   ]
  },
  {
   "cell_type": "code",
   "execution_count": 72,
   "metadata": {},
   "outputs": [
    {
     "data": {
      "text/plain": [
       "AdaBoostClassifier(learning_rate=0.8, n_estimators=100, random_state=42)"
      ]
     },
     "execution_count": 72,
     "metadata": {},
     "output_type": "execute_result"
    }
   ],
   "source": [
    "third_clf.fit(X_train_final, Y_train)"
   ]
  },
  {
   "cell_type": "code",
   "execution_count": 73,
   "metadata": {},
   "outputs": [],
   "source": [
    "y_pred_final3=third_clf.predict_proba(X_val_final)"
   ]
  },
  {
   "cell_type": "code",
   "execution_count": 74,
   "metadata": {},
   "outputs": [],
   "source": [
    "classification_prob['ADABoost Classifier']=y_pred_final3[:,1]"
   ]
  },
  {
   "cell_type": "code",
   "execution_count": 75,
   "metadata": {},
   "outputs": [],
   "source": [
    "fpr,tpr,thresholds=roc_curve(Y_val,y_pred_final3[:,1])\n",
    "thresholds=thresholds[2:]"
   ]
  },
  {
   "cell_type": "code",
   "execution_count": 76,
   "metadata": {},
   "outputs": [
    {
     "data": {
      "image/png": "[encoded data removed]",
      "text/plain": [
       "<Figure size 432x288 with 1 Axes>"
      ]
     },
     "metadata": {
      "needs_background": "light"
     },
     "output_type": "display_data"
    },
    {
     "name": "stdout",
     "output_type": "stream",
     "text": [
      "AUC : 0.8236225616828606\n"
     ]
    }
   ],
   "source": [
    "plot_roc_curve(fpr, tpr)\n",
    "print('AUC :',roc_auc_score(Y_val,y_pred_final3[:,1]))"
   ]
  },
  {
   "cell_type": "code",
   "execution_count": 77,
   "metadata": {},
   "outputs": [],
   "source": [
    "classification_prob['Overall_Avg']=(classification_prob['GB Classifier']+classification_prob['RF Classifier']+classification_prob['ADABoost Classifier'])/3"
   ]
  },
  {
   "cell_type": "code",
   "execution_count": 78,
   "metadata": {},
   "outputs": [
    {
     "data": {
      "text/html": [
       "<div>\n",
       "<style scoped>\n",
       "    .dataframe tbody tr th:only-of-type {\n",
       "        vertical-align: middle;\n",
       "    }\n",
       "\n",
       "    .dataframe tbody tr th {\n",
       "        vertical-align: top;\n",
       "    }\n",
       "\n",
       "    .dataframe thead th {\n",
       "        text-align: right;\n",
       "    }\n",
       "</style>\n",
       "<table border=\"1\" class=\"dataframe\">\n",
       "  <thead>\n",
       "    <tr style=\"text-align: right;\">\n",
       "      <th></th>\n",
       "      <th>RF Classifier</th>\n",
       "      <th>GB Classifier</th>\n",
       "      <th>Overall_Avg</th>\n",
       "      <th>ADABoost Classifier</th>\n",
       "    </tr>\n",
       "  </thead>\n",
       "  <tbody>\n",
       "    <tr>\n",
       "      <th>0</th>\n",
       "      <td>0.127913</td>\n",
       "      <td>0.123746</td>\n",
       "      <td>0.248839</td>\n",
       "      <td>0.494857</td>\n",
       "    </tr>\n",
       "    <tr>\n",
       "      <th>1</th>\n",
       "      <td>0.091057</td>\n",
       "      <td>0.103100</td>\n",
       "      <td>0.229110</td>\n",
       "      <td>0.493174</td>\n",
       "    </tr>\n",
       "    <tr>\n",
       "      <th>2</th>\n",
       "      <td>0.074225</td>\n",
       "      <td>0.112058</td>\n",
       "      <td>0.226086</td>\n",
       "      <td>0.491975</td>\n",
       "    </tr>\n",
       "    <tr>\n",
       "      <th>3</th>\n",
       "      <td>0.081123</td>\n",
       "      <td>0.078017</td>\n",
       "      <td>0.217500</td>\n",
       "      <td>0.493360</td>\n",
       "    </tr>\n",
       "    <tr>\n",
       "      <th>4</th>\n",
       "      <td>0.127201</td>\n",
       "      <td>0.147390</td>\n",
       "      <td>0.256245</td>\n",
       "      <td>0.494145</td>\n",
       "    </tr>\n",
       "    <tr>\n",
       "      <th>...</th>\n",
       "      <td>...</td>\n",
       "      <td>...</td>\n",
       "      <td>...</td>\n",
       "      <td>...</td>\n",
       "    </tr>\n",
       "    <tr>\n",
       "      <th>39043</th>\n",
       "      <td>0.110591</td>\n",
       "      <td>0.163815</td>\n",
       "      <td>0.256063</td>\n",
       "      <td>0.493782</td>\n",
       "    </tr>\n",
       "    <tr>\n",
       "      <th>39044</th>\n",
       "      <td>0.518836</td>\n",
       "      <td>0.595806</td>\n",
       "      <td>0.538557</td>\n",
       "      <td>0.501028</td>\n",
       "    </tr>\n",
       "    <tr>\n",
       "      <th>39045</th>\n",
       "      <td>0.449047</td>\n",
       "      <td>0.523588</td>\n",
       "      <td>0.491355</td>\n",
       "      <td>0.501429</td>\n",
       "    </tr>\n",
       "    <tr>\n",
       "      <th>39046</th>\n",
       "      <td>0.010761</td>\n",
       "      <td>0.008508</td>\n",
       "      <td>0.168452</td>\n",
       "      <td>0.486087</td>\n",
       "    </tr>\n",
       "    <tr>\n",
       "      <th>39047</th>\n",
       "      <td>0.050341</td>\n",
       "      <td>0.048630</td>\n",
       "      <td>0.196447</td>\n",
       "      <td>0.490371</td>\n",
       "    </tr>\n",
       "  </tbody>\n",
       "</table>\n",
       "<p>39048 rows × 4 columns</p>\n",
       "</div>"
      ],
      "text/plain": [
       "       RF Classifier  GB Classifier  Overall_Avg  ADABoost Classifier\n",
       "0           0.127913       0.123746     0.248839             0.494857\n",
       "1           0.091057       0.103100     0.229110             0.493174\n",
       "2           0.074225       0.112058     0.226086             0.491975\n",
       "3           0.081123       0.078017     0.217500             0.493360\n",
       "4           0.127201       0.147390     0.256245             0.494145\n",
       "...              ...            ...          ...                  ...\n",
       "39043       0.110591       0.163815     0.256063             0.493782\n",
       "39044       0.518836       0.595806     0.538557             0.501028\n",
       "39045       0.449047       0.523588     0.491355             0.501429\n",
       "39046       0.010761       0.008508     0.168452             0.486087\n",
       "39047       0.050341       0.048630     0.196447             0.490371\n",
       "\n",
       "[39048 rows x 4 columns]"
      ]
     },
     "execution_count": 78,
     "metadata": {},
     "output_type": "execute_result"
    }
   ],
   "source": [
    "classification_prob"
   ]
  },
  {
   "cell_type": "code",
   "execution_count": 79,
   "metadata": {},
   "outputs": [
    {
     "data": {
      "image/png": "[encoded data removed]",
      "text/plain": [
       "<Figure size 432x288 with 1 Axes>"
      ]
     },
     "metadata": {
      "needs_background": "light"
     },
     "output_type": "display_data"
    },
    {
     "name": "stdout",
     "output_type": "stream",
     "text": [
      "AUC : 0.83443644401371\n"
     ]
    }
   ],
   "source": [
    "plot_roc_curve(fpr, tpr)\n",
    "print('AUC :',roc_auc_score(Y_val,classification_prob['Overall_Avg']))"
   ]
  },
  {
   "cell_type": "code",
   "execution_count": 80,
   "metadata": {},
   "outputs": [],
   "source": [
    "a=np.linspace(0.1,0.99,10)\n",
    "b=np.linspace(0.1,0.99,10)\n",
    "c=np.linspace(0.1,0.99,10)\n"
   ]
  },
  {
   "cell_type": "code",
   "execution_count": 81,
   "metadata": {},
   "outputs": [],
   "source": [
    "values={}\n",
    "for i in a:\n",
    "    for j in b:\n",
    "        for k in c:\n",
    "            s=(i+j+k)\n",
    "            classification_prob['Overall_Avg']=((i/s)*classification_prob['GB Classifier']+(j/s)*classification_prob['RF Classifier']\n",
    "                                        +(k/s)*classification_prob['ADABoost Classifier'])\n",
    "            \n",
    "            values[(i,j,k)]=roc_auc_score(Y_val,classification_prob['Overall_Avg'])"
   ]
  },
  {
   "cell_type": "code",
   "execution_count": 82,
   "metadata": {},
   "outputs": [
    {
     "name": "stdout",
     "output_type": "stream",
     "text": [
      "(0.99, 0.1, 0.1)\n"
     ]
    }
   ],
   "source": [
    "Keymax = max(values, key=values.get) \n",
    "print(Keymax) "
   ]
  },
  {
   "cell_type": "code",
   "execution_count": 83,
   "metadata": {},
   "outputs": [
    {
     "data": {
      "text/plain": [
       "0.8354510262415018"
      ]
     },
     "execution_count": 83,
     "metadata": {},
     "output_type": "execute_result"
    }
   ],
   "source": [
    "values[Keymax]"
   ]
  },
  {
   "cell_type": "code",
   "execution_count": 84,
   "metadata": {},
   "outputs": [],
   "source": [
    "total=sum(Keymax)"
   ]
  },
  {
   "cell_type": "code",
   "execution_count": 85,
   "metadata": {},
   "outputs": [],
   "source": [
    "y_test_pred_ADB=third_clf.predict_proba(X_test_final)[:,1]"
   ]
  },
  {
   "cell_type": "code",
   "execution_count": 86,
   "metadata": {},
   "outputs": [],
   "source": [
    "y_test_pred_GB=final_clf2.predict_proba(X_test_final)[:,1]"
   ]
  },
  {
   "cell_type": "code",
   "execution_count": 87,
   "metadata": {},
   "outputs": [
    {
     "name": "stderr",
     "output_type": "stream",
     "text": [
      "[Parallel(n_jobs=4)]: Using backend ThreadingBackend with 4 concurrent workers.\n",
      "[Parallel(n_jobs=4)]: Done  33 tasks      | elapsed:    0.0s\n",
      "[Parallel(n_jobs=4)]: Done 154 tasks      | elapsed:    0.1s\n",
      "[Parallel(n_jobs=4)]: Done 357 tasks      | elapsed:    0.3s\n",
      "[Parallel(n_jobs=4)]: Done 600 out of 600 | elapsed:    0.5s finished\n"
     ]
    }
   ],
   "source": [
    "y_test_pred_RF=final_clf.predict_proba(X_test_final)[:,1]"
   ]
  },
  {
   "cell_type": "code",
   "execution_count": 88,
   "metadata": {},
   "outputs": [],
   "source": [
    "final_clf_op=pd.DataFrame(y_test_pred_GB)"
   ]
  },
  {
   "cell_type": "code",
   "execution_count": 89,
   "metadata": {},
   "outputs": [],
   "source": [
    "final_clf_op['RF']=y_test_pred_RF"
   ]
  },
  {
   "cell_type": "code",
   "execution_count": 90,
   "metadata": {},
   "outputs": [],
   "source": [
    "final_clf_op['ADB']=y_test_pred_ADB"
   ]
  },
  {
   "cell_type": "code",
   "execution_count": 91,
   "metadata": {},
   "outputs": [],
   "source": [
    "final_clf_op.columns=['GB','RF','ADB']"
   ]
  },
  {
   "cell_type": "code",
   "execution_count": 92,
   "metadata": {},
   "outputs": [],
   "source": [
    "final_clf_op['Overall_Avg']=((Keymax[0]/total)*final_clf_op['GB']+\n",
    "                             (Keymax[1]/total)*final_clf_op['RF']\n",
    "                             +(Keymax[2]/total)*final_clf_op['ADB'])"
   ]
  },
  {
   "cell_type": "code",
   "execution_count": 93,
   "metadata": {},
   "outputs": [
    {
     "data": {
      "text/html": [
       "<div>\n",
       "<style scoped>\n",
       "    .dataframe tbody tr th:only-of-type {\n",
       "        vertical-align: middle;\n",
       "    }\n",
       "\n",
       "    .dataframe tbody tr th {\n",
       "        vertical-align: top;\n",
       "    }\n",
       "\n",
       "    .dataframe thead th {\n",
       "        text-align: right;\n",
       "    }\n",
       "</style>\n",
       "<table border=\"1\" class=\"dataframe\">\n",
       "  <thead>\n",
       "    <tr style=\"text-align: right;\">\n",
       "      <th></th>\n",
       "      <th>GB</th>\n",
       "      <th>RF</th>\n",
       "      <th>ADB</th>\n",
       "      <th>Overall_Avg</th>\n",
       "    </tr>\n",
       "  </thead>\n",
       "  <tbody>\n",
       "    <tr>\n",
       "      <th>0</th>\n",
       "      <td>0.100230</td>\n",
       "      <td>0.096485</td>\n",
       "      <td>0.492288</td>\n",
       "      <td>0.132861</td>\n",
       "    </tr>\n",
       "    <tr>\n",
       "      <th>1</th>\n",
       "      <td>0.141608</td>\n",
       "      <td>0.093882</td>\n",
       "      <td>0.493997</td>\n",
       "      <td>0.167210</td>\n",
       "    </tr>\n",
       "    <tr>\n",
       "      <th>2</th>\n",
       "      <td>0.199481</td>\n",
       "      <td>0.163284</td>\n",
       "      <td>0.496123</td>\n",
       "      <td>0.221367</td>\n",
       "    </tr>\n",
       "    <tr>\n",
       "      <th>3</th>\n",
       "      <td>0.079584</td>\n",
       "      <td>0.108311</td>\n",
       "      <td>0.490975</td>\n",
       "      <td>0.116569</td>\n",
       "    </tr>\n",
       "    <tr>\n",
       "      <th>4</th>\n",
       "      <td>0.220207</td>\n",
       "      <td>0.159343</td>\n",
       "      <td>0.495481</td>\n",
       "      <td>0.238224</td>\n",
       "    </tr>\n",
       "    <tr>\n",
       "      <th>...</th>\n",
       "      <td>...</td>\n",
       "      <td>...</td>\n",
       "      <td>...</td>\n",
       "      <td>...</td>\n",
       "    </tr>\n",
       "    <tr>\n",
       "      <th>10229</th>\n",
       "      <td>0.052251</td>\n",
       "      <td>0.093645</td>\n",
       "      <td>0.488834</td>\n",
       "      <td>0.092417</td>\n",
       "    </tr>\n",
       "    <tr>\n",
       "      <th>10230</th>\n",
       "      <td>0.043187</td>\n",
       "      <td>0.059925</td>\n",
       "      <td>0.490239</td>\n",
       "      <td>0.082161</td>\n",
       "    </tr>\n",
       "    <tr>\n",
       "      <th>10231</th>\n",
       "      <td>0.074532</td>\n",
       "      <td>0.067170</td>\n",
       "      <td>0.492713</td>\n",
       "      <td>0.109054</td>\n",
       "    </tr>\n",
       "    <tr>\n",
       "      <th>10232</th>\n",
       "      <td>0.020322</td>\n",
       "      <td>0.031632</td>\n",
       "      <td>0.487271</td>\n",
       "      <td>0.060512</td>\n",
       "    </tr>\n",
       "    <tr>\n",
       "      <th>10233</th>\n",
       "      <td>0.021344</td>\n",
       "      <td>0.023665</td>\n",
       "      <td>0.489048</td>\n",
       "      <td>0.060842</td>\n",
       "    </tr>\n",
       "  </tbody>\n",
       "</table>\n",
       "<p>10234 rows × 4 columns</p>\n",
       "</div>"
      ],
      "text/plain": [
       "             GB        RF       ADB  Overall_Avg\n",
       "0      0.100230  0.096485  0.492288     0.132861\n",
       "1      0.141608  0.093882  0.493997     0.167210\n",
       "2      0.199481  0.163284  0.496123     0.221367\n",
       "3      0.079584  0.108311  0.490975     0.116569\n",
       "4      0.220207  0.159343  0.495481     0.238224\n",
       "...         ...       ...       ...          ...\n",
       "10229  0.052251  0.093645  0.488834     0.092417\n",
       "10230  0.043187  0.059925  0.490239     0.082161\n",
       "10231  0.074532  0.067170  0.492713     0.109054\n",
       "10232  0.020322  0.031632  0.487271     0.060512\n",
       "10233  0.021344  0.023665  0.489048     0.060842\n",
       "\n",
       "[10234 rows x 4 columns]"
      ]
     },
     "execution_count": 93,
     "metadata": {},
     "output_type": "execute_result"
    }
   ],
   "source": [
    "final_clf_op"
   ]
  },
  {
   "cell_type": "code",
   "execution_count": 94,
   "metadata": {},
   "outputs": [],
   "source": [
    "encounter_IDs = pd.read_csv(\"../input/widsdatathon2021/UnlabeledWiDS2021.csv\")[[\"encounter_id\"]].values"
   ]
  },
  {
   "cell_type": "code",
   "execution_count": 95,
   "metadata": {},
   "outputs": [],
   "source": [
    "df_sub = {'encounter_id': encounter_IDs[:,0], 'diabetes_mellitus':final_clf_op['Overall_Avg']} "
   ]
  },
  {
   "cell_type": "code",
   "execution_count": 99,
   "metadata": {},
   "outputs": [],
   "source": [
    "df_predictions = pd.DataFrame.from_dict(df_sub).set_index(['encounter_id'])\n",
    "df_predictions.to_csv('submission_final.csv')"
   ]
  },
  {
   "cell_type": "code",
   "execution_count": null,
   "metadata": {},
   "outputs": [],
   "source": []
  }
 ],
 "metadata": {
  "kernelspec": {
   "display_name": "Python 3",
   "language": "python",
   "name": "python3"
  },
  "language_info": {
   "codemirror_mode": {
    "name": "ipython",
    "version": 3
   },
   "file_extension": ".py",
   "mimetype": "text/x-python",
   "name": "python",
   "nbconvert_exporter": "python",
   "pygments_lexer": "ipython3",
   "version": "3.8.5"
  }
 },
 "nbformat": 4,
 "nbformat_minor": 4
}
